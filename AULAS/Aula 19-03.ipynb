{
 "cells": [
  {
   "cell_type": "code",
   "execution_count": null,
   "id": "a4caf0dc",
   "metadata": {},
   "outputs": [],
   "source": [
    "import requests\n",
    "from bs4 import BeautifulSoup"
   ]
  },
  {
   "cell_type": "code",
   "execution_count": null,
   "id": "526cf037",
   "metadata": {},
   "outputs": [],
   "source": [
    "# Obtendo a página inicial da Wikipedia\n",
    "url = \"https://pt.wikipedia.org/wiki/Wikip%C3%A9dia:P%C3%A1gina_principal\"\n",
    "\n",
    "response = requests.get(url)\n",
    "soup = BeautifulSoup(response.content, \"html.parser\")"
   ]
  },
  {
   "cell_type": "code",
   "execution_count": null,
   "id": "af1bd938",
   "metadata": {},
   "outputs": [],
   "source": [
    "soup.title.text"
   ]
  },
  {
   "cell_type": "code",
   "execution_count": null,
   "id": "1e15343f",
   "metadata": {},
   "outputs": [],
   "source": [
    "# Coletando múltiplas páginas em loop\n",
    "import time\n",
    "\n",
    "for _ in range(10):\n",
    "    response = requests.get(url)\n",
    "    print(\"Obtive a página\")\n",
    "    time.sleep(1)"
   ]
  },
  {
   "cell_type": "code",
   "execution_count": null,
   "id": "eae40268",
   "metadata": {},
   "outputs": [],
   "source": [
    "# Salvar uma página\n",
    "pagina = \"https://pt.wikipedia.org/wiki/%C3%93scar\"\n",
    "response = requests.get(pagina)\n",
    "soup = BeautifulSoup(response.content)\n",
    "titulo = soup.select(\".mw-page-title-main\")\n",
    "nome_arquivo = titulo[0].text\n",
    "\n",
    "with open(f\"{nome_arquivo}.html\", \"w\", encoding=\"utf-8\") as f:\n",
    "    conteudo = response.content.decode(\"utf-8\")\n",
    "    f.write(conteudo)"
   ]
  },
  {
   "cell_type": "code",
   "execution_count": null,
   "id": "37eeca23",
   "metadata": {},
   "outputs": [],
   "source": [
    "todos_links = soup.find(id=\"bodyContent\").find_all(\"a\")\n",
    "for link in todos_links:\n",
    "    print(link)\n",
    "    print(link[\"href\"])\n",
    "    print()"
   ]
  },
  {
   "cell_type": "code",
   "execution_count": null,
   "id": "b4168c9f",
   "metadata": {},
   "outputs": [],
   "source": [
    "links = []\n",
    "for link in todos_links:\n",
    "    if \"href\" in link.attrs.keys() and link[\"href\"].startswith(\"/wiki/\"):\n",
    "        if link[\"href\"].find(\":\") == -1:\n",
    "            links.append(link[\"href\"])\n",
    "            print(links[-1])\n",
    "\n",
    "print(f\"Encontrados {len(links)} nesta página\")"
   ]
  },
  {
   "cell_type": "code",
   "execution_count": null,
   "id": "93f0fc74",
   "metadata": {},
   "outputs": [],
   "source": [
    "# Extração das infoboxes\n",
    "url = \"https://pt.wikipedia.org/wiki/Alan_Turing\"\n",
    "response = requests.get(url)\n",
    "soup = BeautifulSoup(response.content, \"html.parser\")"
   ]
  },
  {
   "cell_type": "code",
   "execution_count": null,
   "id": "d79e026c",
   "metadata": {},
   "outputs": [],
   "source": [
    "box = soup.find_all(attrs={\"class\": \"infobox infobox_v2\"})\n",
    "len(box)"
   ]
  },
  {
   "cell_type": "code",
   "execution_count": null,
   "id": "8ca24fda",
   "metadata": {},
   "outputs": [],
   "source": [
    "# Extração das infoboxes\n",
    "url = \"https://pt.wikipedia.org/wiki/Natureza_humana\"\n",
    "response = requests.get(url)\n",
    "soup = BeautifulSoup(response.content, \"html.parser\")\n",
    "box = soup.find_all(attrs={\"class\": \"infobox infobox_v2\"})\n",
    "len(box)"
   ]
  },
  {
   "cell_type": "code",
   "execution_count": null,
   "id": "4d1b674c",
   "metadata": {},
   "outputs": [],
   "source": [
    "if len(box) > 0:\n",
    "    print(\"Essa página contém um infobox\")\n",
    "else:\n",
    "    print(\"Essa página NÃO contém infobox\")"
   ]
  },
  {
   "cell_type": "code",
   "execution_count": null,
   "id": "080249c7",
   "metadata": {
    "scrolled": false
   },
   "outputs": [],
   "source": [
    "for tag in box[0].find_all(\"tr\"):\n",
    "    print(tag)\n",
    "    print()"
   ]
  },
  {
   "cell_type": "code",
   "execution_count": null,
   "id": "953b1ea8",
   "metadata": {},
   "outputs": [],
   "source": [
    "for tag in box[0].find_all(\"tr\"):\n",
    "    if tag.find(attrs={\"scope\":\"row\"}):\n",
    "        td_tag = tag.find_all(\"td\")\n",
    "        print(len(td_tag))\n",
    "        print([filho for filho in td_tag[0].children])\n",
    "        print()\n",
    "        print([filho for filho in td_tag[1].children])\n",
    "        print()\n",
    "        print()"
   ]
  }
 ],
 "metadata": {
  "kernelspec": {
   "display_name": "Python 3 (ipykernel)",
   "language": "python",
   "name": "python3"
  },
  "language_info": {
   "codemirror_mode": {
    "name": "ipython",
    "version": 3
   },
   "file_extension": ".py",
   "mimetype": "text/x-python",
   "name": "python",
   "nbconvert_exporter": "python",
   "pygments_lexer": "ipython3",
   "version": "3.11.10"
  }
 },
 "nbformat": 4,
 "nbformat_minor": 5
}
