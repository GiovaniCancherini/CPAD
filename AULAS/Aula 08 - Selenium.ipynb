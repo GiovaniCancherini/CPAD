{
 "cells": [
  {
   "cell_type": "markdown",
   "id": "11745dfc-1d58-4ecb-82e8-9c08f371040f",
   "metadata": {},
   "source": [
    "# **Web scraping utilizando Selenium**\n",
    "### **Disciplina**: Coleta, Preparação e Análise de Dados\n",
    "### Prof. Lucas Pessutto\n",
    "\n",
    "\n",
    "#### **Créditos**: Código baseado na implementação de Rodrigo C. Barros, Nathan S. Gavenski, Lucas Kupssinskü e Luan Garcia"
   ]
  },
  {
   "cell_type": "markdown",
   "id": "7ae278f1-06a4-4969-9b70-399d0d5b4711",
   "metadata": {},
   "source": [
    "Este tutorial mostra como utilizar a biblioteca Selenium em Python para realizar web scraping.\n",
    "\n",
    "Como exemplo, vamos acessar o site do IMDB, realizar o scraping de algumas informações dos filmes presentes na lista de 100 filmes mais populares do site e depois armazenar essas informações em um arquivo JSON."
   ]
  },
  {
   "cell_type": "markdown",
   "id": "4efce3a7-3de5-4c16-b951-64df221dbcbb",
   "metadata": {},
   "source": [
    "Para executar o código, garanta que você tenha uma versão do Selenium 4.6 ou mais nova.\n",
    "\n",
    "Recomendo fazer a instalação em uma ambiente virtual conda, pois o versionamento dos drivers, Selenium e do Webdriver pode ser um pouco chato de lidar.\n",
    "\n",
    "Pode acontecer de não encontrar uma versão 4.6 ou mais nova do Selenium utilizando apenas os respositórios do conda, então recomendo fazer a instalação do Selenium no ambiente através do pip:\n",
    "\n",
    "```pip install selenium```\n",
    "\n",
    "Maiores informacões:\n",
    "\n",
    "Selenium web driver: [https://www.selenium.dev/documentation/webdriver/](https://www.selenium.dev/documentation/webdriver/)\n"
   ]
  },
  {
   "cell_type": "markdown",
   "id": "ee1579f2-ba8a-4a3a-a4b2-f0834dd48ffc",
   "metadata": {},
   "source": [
    "Vamos importar as bibliotecas para trabalhar com o selenium. Precisamos importar um webdriver e o pacote ```By```, que utilizaremos a seguir para definir a forma de busca dos elementos web."
   ]
  },
  {
   "cell_type": "code",
   "execution_count": null,
   "id": "28b21980-ee63-4fb8-a947-95f2f1a2d879",
   "metadata": {},
   "outputs": [],
   "source": [
    "from selenium import webdriver\n",
    "from selenium.webdriver.common.by import By"
   ]
  },
  {
   "cell_type": "markdown",
   "id": "94513f6d-2454-4773-9c84-2e8aead01b98",
   "metadata": {},
   "source": [
    "Abaixo vamos inicializar uma sessão em um navegador Chrome utilizando o driver apropriado. Caso vá utilizar outro navegador, modifique o driver de acordo.\n",
    "\n",
    "**Atenção**: A chamada abaixo primeiro procurar por um driver instalado localmente no PATH do sistema, depois por um driver na pasta raíz em que o script está sendo executado, e, só depois de não encontrar nenhuma dessas opções, ele procura automaticamente o driver certo para o navegador desejado. Recomendo não ter um driver no PATH ou na pasta raiz, pois qualquer atualização do seu navegador pode quebrar o código."
   ]
  },
  {
   "cell_type": "code",
   "execution_count": null,
   "id": "80a4893b-0a47-486d-b144-b05a9b5e4899",
   "metadata": {},
   "outputs": [],
   "source": [
    "driver = webdriver.Chrome()"
   ]
  },
  {
   "cell_type": "markdown",
   "id": "b47c2ce1-aa64-4f98-8618-adca5337f34b",
   "metadata": {},
   "source": [
    "Vamos abrir o site do IMDB no navegador e imprimir o título da página no notebook.\n",
    "\n",
    "O comando ```get()``` abaixo acessa a página web localizada no link passado como parâmetro no navegador."
   ]
  },
  {
   "cell_type": "code",
   "execution_count": null,
   "id": "092d3cec-f483-4784-88e6-635a997f7c46",
   "metadata": {},
   "outputs": [],
   "source": [
    "driver.get(\"https://www.imdb.com\")"
   ]
  },
  {
   "cell_type": "code",
   "execution_count": null,
   "id": "b64e6a93",
   "metadata": {},
   "outputs": [],
   "source": [
    "driver.maximize_window()"
   ]
  },
  {
   "cell_type": "markdown",
   "id": "76396f9e-0c41-47c6-8e24-522f17917b62",
   "metadata": {},
   "source": [
    "Agora que já carregamos o site podemos buscar pelos elementos HTML existentes na sessão atual do navegador utilizando a função ```find_element()```.\n",
    "\n",
    "Lembrando que os elementos web no navegador são organizados em uma estrutura do tipo DOM (Document Object Modelo), que é o modelo que nos permite tratar um documento web html como se fosse uma árvore de objetos.\n",
    "\n",
    "Mais infos sobre DOM: [https://javascript.info/dom-nodes](https://javascript.info/dom-nodes)\n",
    "\n",
    "A função ```find_element()``` do Selenium encontra um elemento da árvore de acordo com algum tipo de localizador.\n",
    "Os localizadores possíveis são:\n",
    "\n",
    "```\n",
    "    ID = busca pelo atributo id\n",
    "    XPATH = busca pelo XPATH do elemento\n",
    "    LINK_TEXT = busca pelo texto de um link\n",
    "    PARTIAL_LINK_TEXT = busca pelo texto parcial de um link\n",
    "    NAME = busca pelo atributo \"name\"\n",
    "    TAG_NAME = busca pelo nome da tag\n",
    "    CLASS_NAME = busca pelo nome do atributo classe\n",
    "    CSS_SELECTOR = busca pelo nome do seletor CSS\n",
    "```\n",
    "\n",
    "Caso mais de um elemento seja encontrado, apenas o primeiro é retornado.\n",
    "\n",
    "Lembrando que elementos web no modelo DOM podem possuir vários niveis de descendentes (são árvores), ou seja, o elemento pode possuir vários outros elementos dentro dele."
   ]
  },
  {
   "cell_type": "markdown",
   "id": "666ad504-d50a-43ce-826d-f593aeb7d095",
   "metadata": {},
   "source": [
    "Como exemplo, vamos procurar o elemento web que contém o botão de abertura de menu no cabeçalho do site. Como estratégia de localização, vamos utilizar o endereço XPATH do elemento.\n",
    "\n",
    "O próprio Chrome é bastante útil para encontrar o ID, Classe, XPATH ou qualquer outra forma que formos utilizar para selecionar um elemento web. Basta clicar com o botão direito no elemento que queremos e selecionar a opção *Inspecionar*.\n",
    "\n",
    "Depois de acessar e inspecionar o site, é possível ver que o endereço XPATH do menu é o seguinte:\n",
    "```//*[@id=\"imdbHeader-navDrawerOpen\"]```\n",
    "\n",
    "Lembrando que:\n",
    "-  ```'//'``` indica que o endereço inicia da raíz do objeto DOM\n",
    "- ```'*'``` indica que o elemento pode ter qualquer tag\n",
    "- ```'[@id=\"imdbHeader-navDrawerOpen\"]'``` indica que o elemento deve possuir o atributo *id* com o valor *imdbHeader-navDrawerOpen*."
   ]
  },
  {
   "cell_type": "markdown",
   "id": "15051b5d-9e5f-4fca-8c89-524d1b7d56d8",
   "metadata": {},
   "source": [
    "Abaixo vamos executar a função ```find_element()```, indicando que queremos procurar o elemento pelo seu XPATH e vamos armazenar o resultado desta operação em uma variável chamada *menu*."
   ]
  },
  {
   "cell_type": "code",
   "execution_count": null,
   "id": "88343fb0-44d1-493f-b807-adb64ffeea79",
   "metadata": {},
   "outputs": [],
   "source": [
    "menu = driver.find_element(By.XPATH, r\"//*[@id='imdbHeader-navDrawerOpen']\")"
   ]
  },
  {
   "cell_type": "markdown",
   "id": "e408a536-61e1-4ca8-8c5f-097b154dd2a1",
   "metadata": {},
   "source": [
    "Por curiosidade, vamos imprimir o tipo de objeto retornado pela função ```find_element()```"
   ]
  },
  {
   "cell_type": "code",
   "execution_count": null,
   "id": "8221c046-5d5f-4519-9740-642fb29cf431",
   "metadata": {},
   "outputs": [],
   "source": [
    "type(menu)"
   ]
  },
  {
   "cell_type": "markdown",
   "id": "1d054790-38e4-4470-a836-e5fbd339e379",
   "metadata": {},
   "source": [
    "Podemos ver que o objeto retornado pela função ```find_element()``` é um objeto do tipo ```WebElement```, uma classe implementada pela biblioteca Selenium para representar um elemento web html.\n",
    "\n",
    "Todo elemento web pode ser representado por uma tag html. Vamos ver abaixo qual o nome da tag html o site IMDB utiliza para representa o seu menu."
   ]
  },
  {
   "cell_type": "code",
   "execution_count": null,
   "id": "fbbc3fa8-e8d7-4952-89bf-22d502706f5e",
   "metadata": {},
   "outputs": [],
   "source": [
    "menu.tag_name"
   ]
  },
  {
   "cell_type": "markdown",
   "id": "96b459d9-be79-4d53-8efc-5d63143256db",
   "metadata": {},
   "source": [
    "Podemos ver que que o menu está sendo representado por uma tag do tipo *label*."
   ]
  },
  {
   "cell_type": "markdown",
   "id": "c31c3f3d-0456-4957-933b-8ce81e6d5090",
   "metadata": {},
   "source": [
    "Agora, vamos pedir para o driver realizar uma ação de clique no navegador no elemento que selecionamos.\n",
    "\n",
    "Podemos fazer isso chamando a função ```click()```. "
   ]
  },
  {
   "cell_type": "code",
   "execution_count": null,
   "id": "42b4146f-3a4e-4075-9247-eb49e3cc91ad",
   "metadata": {},
   "outputs": [],
   "source": [
    "menu.click()"
   ]
  },
  {
   "cell_type": "markdown",
   "id": "bb114ff5-d952-49e7-a439-cf34f64058b7",
   "metadata": {},
   "source": [
    "A função ```click()``` acima fez com que o menu fosse aberto no site, e, com isso, o código javascript ser executado dinamicamente para gerar novos elementos web para criar os links no menu.\n",
    "\n",
    "Podemos agora procurar pelo elemento que armazena o link para página de filmes mais populares que queremos acessar. Desta vez, vamos utilizar como estratégia de localização o texto presente no link.\n",
    "\n",
    "Obs.: Tente executar o código abaixo sem que o menu esteja totalmente aberto e verifique o que acontece."
   ]
  },
  {
   "cell_type": "code",
   "execution_count": null,
   "id": "a10ac94c-1c11-4ec4-ba75-9ed0b5aca9e7",
   "metadata": {},
   "outputs": [],
   "source": [
    "link_populares = driver.find_element(By.LINK_TEXT, r'250 filmes mais populares')"
   ]
  },
  {
   "cell_type": "markdown",
   "id": "a97c89f2-2eeb-496f-b4d5-880c9f9b2c82",
   "metadata": {},
   "source": [
    "Podemos ver abaixo que a função ```find_element()``` retornou novamente um objeto ```WebElement```, mas que agora que representa uma elemento do tipo *link* (TAG **a** do html)."
   ]
  },
  {
   "cell_type": "code",
   "execution_count": null,
   "id": "1f0da3c9-c03e-4690-9e67-3687b90469c3",
   "metadata": {},
   "outputs": [],
   "source": [
    "type(link_populares)"
   ]
  },
  {
   "cell_type": "code",
   "execution_count": null,
   "id": "fbfb35c5-298b-4566-8f14-e1eb3bc5c89e",
   "metadata": {},
   "outputs": [],
   "source": [
    "link_populares.tag_name"
   ]
  },
  {
   "cell_type": "markdown",
   "id": "af41eaf1-b1f1-4c96-b6bc-a6e330eb0647",
   "metadata": {},
   "source": [
    "Para descobrirmos a URL de fato, precisamos acessar o atributo *href* da tag a. Podemos fazer isto através da função ```get_attribute()```, passando como parâmetro o nome do atributo."
   ]
  },
  {
   "cell_type": "code",
   "execution_count": null,
   "id": "85d0894d-0b95-41b1-96ec-d817074793ce",
   "metadata": {},
   "outputs": [],
   "source": [
    "url = link_populares.get_attribute(\"href\")\n",
    "url"
   ]
  },
  {
   "cell_type": "markdown",
   "id": "fad096b1-1f2c-40ab-88a2-196e7cf6feb7",
   "metadata": {},
   "source": [
    "Com o link correto em mãos, podemos novamente pedir para o driver realizar uma ação no navegador e acessar a página de filmes mais populares."
   ]
  },
  {
   "cell_type": "code",
   "execution_count": null,
   "id": "e18b45da-6bc5-4a13-9f48-7dbde38997a9",
   "metadata": {},
   "outputs": [],
   "source": [
    "driver.get(url)"
   ]
  },
  {
   "cell_type": "markdown",
   "id": "1fb8ae8d-e12d-4419-83bb-c7acf7b5ff51",
   "metadata": {},
   "source": [
    "Analizando a estrutura do código página (utilizando a função Inspecionar do Chrome), podemos ver que as informações dos filmes estão organizadas dentro de uma TAG html do tipo **ul** (unordered list), e cada filme está organizado dentro de uma tag **li**.\n",
    "\n",
    "Vamos buscar a lista inteira utilizando seu caminho XPATH e depois todas suas tags *li*, para formar uma lista com os filmes.\n",
    "Note que para as tags do tipo *li* vamos utilizar a função ```find_elements()``` (com s no final), que retorna uma lista de elementos."
   ]
  },
  {
   "cell_type": "code",
   "execution_count": null,
   "id": "dd1477aa-958f-44e4-a0a3-b561561eaa19",
   "metadata": {},
   "outputs": [],
   "source": [
    "tag_ul = driver.find_element(By.XPATH, r'//*[@id=\"__next\"]/main/div/div[3]/section/div/div[2]/div/ul')\n",
    "lista_filmes = tag_ul.find_elements(By.TAG_NAME, \"li\")"
   ]
  },
  {
   "cell_type": "markdown",
   "id": "cf1e23ca-f0d3-4e9c-a8a2-808ecc0f1877",
   "metadata": {},
   "source": [
    "Podemos conferir abaixo a diferença entre as funções ```find_element()``` e ```find_elements()```.\n",
    "\n",
    "A primeira sempre retorna um único objeto de tipo ```WebElement```. A segunda sempre retorna uma lista, que pode estar vazia, conter apenas um objeto de tipo ```WebElement``` ou conter vários objetos de tipo ```WebElement```."
   ]
  },
  {
   "cell_type": "code",
   "execution_count": null,
   "id": "06d1ac16-1ed1-4ef8-8fbd-77391c467726",
   "metadata": {},
   "outputs": [],
   "source": [
    "type(tag_ul)"
   ]
  },
  {
   "cell_type": "code",
   "execution_count": null,
   "id": "b70c894d-0438-4c1c-bace-aed4d01a4656",
   "metadata": {},
   "outputs": [],
   "source": [
    "type(lista_filmes)\n",
    "lista_filmes"
   ]
  },
  {
   "cell_type": "markdown",
   "id": "5edfd0e3-df0d-4d1b-9b65-36672cace444",
   "metadata": {},
   "source": [
    "Vamos percorer a lista e imprimir o título dos filmes. Utilizando a inspeção do navegador é possível ver que o título fica armazenado em um elemento que tem o valor do atributo classe igual a ```\"ipc-title__text\"```.\n",
    "Buscaremos o texto contido na tag utilizando como estratégia de localização o nome da classe do elemento."
   ]
  },
  {
   "cell_type": "code",
   "execution_count": null,
   "id": "96b44e5d-bacc-43e6-b305-73c6b278aef6",
   "metadata": {},
   "outputs": [],
   "source": [
    "for filme in lista_filmes:\n",
    "    print(filme.find_element(By.CLASS_NAME, \"ipc-title__text\").text)"
   ]
  },
  {
   "cell_type": "markdown",
   "id": "20de2c54-abc7-491c-9ac5-cafdcd8d1a56",
   "metadata": {},
   "source": [
    "Evidentemente nosso objetivo não é apenas imprimir os nomes dos filmes, mas sim recuperar diversas informações sobre cada filme e armazená-las de alguma forma.\n",
    "\n",
    "Inicialmente, vamos definir uma classe ```Filme``` para armazenar todas informações que queremos de um filme.\n",
    "\n",
    "Importaremos a biblioteca ```dataclasses``` para usar o decorador ```@dataclass```, que irá adicionar alguns métodos automaticamente, como o construtor de classe."
   ]
  },
  {
   "cell_type": "code",
   "execution_count": null,
   "id": "70f0b300-5d48-485e-ab39-3e3d7683f7cb",
   "metadata": {},
   "outputs": [],
   "source": [
    "from dataclasses import dataclass\n",
    "\n",
    "@dataclass\n",
    "class Filme:\n",
    "    titulo: str\n",
    "    ano: str\n",
    "    classificacao: float\n",
    "    pagina: str"
   ]
  },
  {
   "cell_type": "markdown",
   "id": "a44819e4-9d11-475e-856b-0470d38b2406",
   "metadata": {},
   "source": [
    "Vamos definir uma função para que, dado um objeto ```WebElement``` que represente uma tag do tipo *li*, um objeto do tipo ```Filme``` seja criado e populado com as informações presentes nesta tag.\n",
    "\n",
    "Analisando o site é possível ver que as tags que armazenam o ano dos filmes não possuem nenhuma classe ou atributo específico, então vamos precisar um XPATH como estratégio de localização.\n",
    "\n",
    "Um ponto bastante relevante é que o XPATH neste caso precisa ser relativo à tag *li* que estamos acessando, pois se simplesmente copiarmos o XPATH completo de um elemento que contenha um ano específico, não iremos pegar corretamente os anos. Vamos ver a razão disto abaixo.\n",
    "\n",
    "Observe que:\n",
    "\n",
    "```//*[@id=\"__next\"]/main/div/div[3]/section/div/div[2]/div/ul/li[2]/div[2]/div/div/div[3]/span[1]```\n",
    "\n",
    "O XPATH acima inicia a partir da raiz da árvore e é específico para a segunda tag *li* da lista *ul* (a tag *li* está com o índice 2, ou seja .../ul/li[2]/div[2]/...):\n",
    "\n",
    "Precisamos tornar este caminho relativo para que funcione em qualquer tag *li*:\n",
    "```./div[2]/div/div/div[3]/span[1]```\n",
    "\n",
    "O XPATH acima iniciando com o \".\" considera o endereço relativo do elemento, iniciando pelo endereço da tag *li* que estamos acessando e não pela raíz da árvore DOM.\n",
    "\n",
    "\n",
    "Outro problema que temos é que o texto que contém o rating dos filmes está junto com o número de votos. \n",
    "\n",
    "Vamos precisar utilizar uma regex (expressão regular) para extrair apenas o valor da nota do filme."
   ]
  },
  {
   "cell_type": "code",
   "execution_count": null,
   "id": "2f6ad1ef-4e70-4cb5-9013-006ba430621f",
   "metadata": {},
   "outputs": [],
   "source": [
    "#biblioteca para expressões regulares\n",
    "import re\n",
    "\n",
    "def cria_filme(imdb_li_tag):\n",
    "    titulo = imdb_li_tag.find_element(By.CLASS_NAME, \"ipc-title__text\").text #pegamos o texto do elemento\n",
    "    ano = imdb_li_tag.find_element(By.XPATH, r'./div/div/div/div/div[2]/div[2]/span[1]').text \n",
    "    texto_classificacao = imdb_li_tag.find_element(By.CLASS_NAME, \"ipc-rating-star\").text #este texto está 'sujo', contém o número de votos também\n",
    "    pagina = imdb_li_tag.find_element(By.CLASS_NAME, \"ipc-title-link-wrapper\").get_attribute(\"href\")\n",
    "    re_result = re.search(r'^\\d\\,\\d',texto_classificacao) #aplicando a regex para extrair apenas o padrão 'digito ponto digito'\n",
    "    \n",
    "    classificacao = None\n",
    "    if re_result:\n",
    "        classificacao = re.search(r'^\\d\\,\\d',texto_classificacao).group(0) #string resultante da regex\n",
    "        classificacao = float(classificacao.replace(\",\", \".\")) # Aletera o separador decimal\n",
    "        \n",
    "    return Filme(titulo, ano, classificacao, pagina)"
   ]
  },
  {
   "cell_type": "markdown",
   "id": "240305c0-1259-4d74-96e0-5b0b0e111dda",
   "metadata": {},
   "source": [
    "**Atenção**: a função acima é bastante ingênua e assume que todas as tags vão estar corretas. Talvez algum filme possa não conter alguma informação. Para tornar o código mais robusto, utilize o comando try e trate exceções.\n",
    "\n",
    "Exemplo:\n",
    "\n",
    "'''\n",
    "try:\n",
    "    title = imdb_li_tag.find_element(By.CLASS_NAME, \"ipc-title__text\").text\n",
    "except Exception as e:    \n",
    "    print(\"Problema ao tentar ler dados do filme...\")\n",
    "'''\n",
    "\n",
    "A lista dos possíveis erros pode ser encontrada na recomendação da W3C:\n",
    "\n",
    "[https://www.w3.org/TR/webdriver/#errors](https://www.w3.org/TR/webdriver/#errors)\n",
    "\n",
    "O selenium contém diversas classes de exceções implementadas para esses erros, verifique a documentação para utilizar a classe apropriada."
   ]
  },
  {
   "cell_type": "markdown",
   "id": "d1c8ea8e-31cb-405e-9658-6c62066a3ba3",
   "metadata": {},
   "source": [
    "Vamos agora criar uma lista contendo todos os filmes que extraímos da página. Para isto, vamos utilizar uma estrutura de lista em Python, a classe ```Filme``` e o méotodo ```cria_filme``` que criamos."
   ]
  },
  {
   "cell_type": "code",
   "execution_count": null,
   "id": "bbd96a04-8e9d-49ef-b821-42640554f1a9",
   "metadata": {},
   "outputs": [],
   "source": [
    "lista_de_filmes = []\n",
    "for filme_tag in lista_filmes:\n",
    "    filme = cria_filme(filme_tag)\n",
    "    lista_de_filmes.append(filme)"
   ]
  },
  {
   "cell_type": "markdown",
   "id": "97a98155-c8f6-4f3f-8461-d5d552bd2488",
   "metadata": {},
   "source": [
    "Vamos imprimir os 10 primeiros filmes da lista:"
   ]
  },
  {
   "cell_type": "code",
   "execution_count": null,
   "id": "43c18a57-126e-443e-8fbb-f449e66959af",
   "metadata": {},
   "outputs": [],
   "source": [
    "for i in range(10):\n",
    "    print(lista_de_filmes[i])"
   ]
  },
  {
   "cell_type": "markdown",
   "id": "7b4bd176-51df-41f6-9fed-54ddaa920177",
   "metadata": {},
   "source": [
    "Vamos agora armazenar nossa lista de filmes em um objeto JSON e salvar em um arquivo.\n",
    "\n",
    "Precisaremos importar a biblioteca ```json``` e converter nosso objeto ```Filme``` para um dicionário, pois é o tipo de estrutura de dados aceita pela função ```dump()```.\n",
    "\n",
    "O arquivo será salvo na mesma pasta em que o notebook está sendo executado."
   ]
  },
  {
   "cell_type": "code",
   "execution_count": null,
   "id": "0f4409ce-2636-4831-8599-19b0d0e29d97",
   "metadata": {},
   "outputs": [],
   "source": [
    "import json\n",
    "\n",
    "with open(\"filmes.json\", \"w\", encoding=\"utf-8\") as arquivo:\n",
    "    for filme in lista_de_filmes:\n",
    "        json.dump(filme.__dict__, arquivo, ensure_ascii=False, indent=4) #.__dict__ converte um filme em uma estrutura do tipo Dicionário"
   ]
  },
  {
   "cell_type": "markdown",
   "id": "62657d20-cad8-4876-b8d0-8aa648006cca",
   "metadata": {},
   "source": [
    "Fechando o navegador"
   ]
  },
  {
   "cell_type": "code",
   "execution_count": null,
   "id": "4b45f6fa-4756-4848-a4c1-85a10f72b7bc",
   "metadata": {},
   "outputs": [],
   "source": [
    "driver.quit()"
   ]
  }
 ],
 "metadata": {
  "kernelspec": {
   "display_name": "Python 3 (ipykernel)",
   "language": "python",
   "name": "python3"
  },
  "language_info": {
   "codemirror_mode": {
    "name": "ipython",
    "version": 3
   },
   "file_extension": ".py",
   "mimetype": "text/x-python",
   "name": "python",
   "nbconvert_exporter": "python",
   "pygments_lexer": "ipython3",
   "version": "3.12.2"
  }
 },
 "nbformat": 4,
 "nbformat_minor": 5
}
