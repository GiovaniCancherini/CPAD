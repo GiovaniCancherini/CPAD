{
 "cells": [
  {
   "cell_type": "markdown",
   "id": "9eef7276",
   "metadata": {},
   "source": [
    "# Web Scraping das Top 250 Séries do IMDb\n",
    "\n",
    "Este notebook realiza um scraping passo a passo em **Selenium** para:\n",
    "1. Extrair as 250 séries mais bem avaliadas no IMDb.\n",
    "2. Visitar cada página de série e coletar popularidade, elenco principal e número total de episódios.\n",
    "3. Salvar os resultados em **JSON**.\n"
   ]
  },
  {
   "cell_type": "markdown",
   "id": "db08e66f",
   "metadata": {},
   "source": [
    "## 1. Instalação de dependências\n",
    "\n",
    "Execute no terminal:\n",
    "\n",
    "```bash\n",
    "pip install selenium webdriver-manager\n",
    "```"
   ]
  },
  {
   "cell_type": "markdown",
   "id": "98046895",
   "metadata": {},
   "source": [
    "## 2. Importar bibliotecas e inicializar o navegador"
   ]
  },
  {
   "cell_type": "code",
   "execution_count": null,
   "id": "8eed7079",
   "metadata": {},
   "outputs": [],
   "source": [
    "from selenium import webdriver\n",
    "from selenium.webdriver.chrome.service import Service\n",
    "from webdriver_manager.chrome import ChromeDriverManager\n",
    "from selenium.webdriver.common.by import By\n",
    "import json\n",
    "import time\n",
    "\n",
    "# Inicializar o Chrome\n",
    "driver = webdriver.Chrome(service=Service(ChromeDriverManager().install()))\n"
   ]
  },
  {
   "cell_type": "markdown",
   "id": "bec982fb",
   "metadata": {},
   "source": [
    "## 3. Capturar as 250 séries mais bem avaliadas"
   ]
  },
  {
   "cell_type": "code",
   "execution_count": null,
   "id": "295e50f2",
   "metadata": {},
   "outputs": [],
   "source": [
    "url = \"https://www.imdb.com/chart/toptv/\"\n",
    "driver.get(url)\n",
    "time.sleep(2)\n",
    "\n",
    "series_list = []\n",
    "# Seletor dos itens de série\n",
    "rows = driver.find_elements(By.CSS_SELECTOR, \".ipc-metadata-list-summary-item\")\n",
    "for row in rows:\n",
    "    try:\n",
    "        title_elem = row.find_element(By.CSS_SELECTOR, \"h3 a\")\n",
    "        title_raw = title_elem.text.strip()\n",
    "        # Remove dígitos do título (ex.: ano embutido)\n",
    "        title = ''.join([c for c in title_raw if not c.isdigit()]).strip(\". \")\n",
    "\n",
    "        link = title_elem.get_attribute(\"href\")\n",
    "        year = int(row.find_element(By.CSS_SELECTOR, \n",
    "                    \".sc-b189961a-8.kLaxqf.cli-title-metadata-item\").text.strip(\"()\"))\n",
    "        rating = float(row.find_element(By.CSS_SELECTOR, \n",
    "                    \"span.sc-bde20123-1.cMEQkK\").text.strip())\n",
    "\n",
    "        series_list.append({\n",
    "            \"Título\": title,\n",
    "            \"Ano\": year,\n",
    "            \"Nota IMDB\": rating,\n",
    "            \"Link\": link\n",
    "        })\n",
    "    except Exception as e:\n",
    "        print(f\"Erro ao processar linha: {e}\")\n",
    "\n",
    "print(f\"Capturadas {len(series_list)} séries.\")"
   ]
  },
  {
   "cell_type": "markdown",
   "id": "a5a611bb",
   "metadata": {},
   "source": [
    "## 4. Visitar cada série e coletar detalhes adicionais"
   ]
  },
  {
   "cell_type": "code",
   "execution_count": null,
   "id": "c658af76",
   "metadata": {},
   "outputs": [],
   "source": [
    "for serie in series_list:\n",
    "    driver.get(serie[\"Link\"])\n",
    "    time.sleep(1.5)\n",
    "    try:\n",
    "        # Número total de episódios\n",
    "        episodes = driver.find_element(By.CSS_SELECTOR, \n",
    "                   'li[data-testid=\"episodes-header\"] span').text\n",
    "        serie[\"Total de Episódios\"] = int(\n",
    "            episodes.replace(\" episódios\", \"\").replace(\",\", \"\"))\n",
    "        \n",
    "        # Popularidade\n",
    "        popularity = driver.find_element(By.CSS_SELECTOR, \n",
    "                   'div[data-testid=\"hero-rating-bar__popularity__score\"]').text\n",
    "        serie[\"Popularidade\"] = int(\n",
    "            popularity.replace(\"#\", \"\").replace(\",\", \"\"))\n",
    "\n",
    "        # Elenco principal (até 10 integrantes)\n",
    "        elenco_elems = driver.find_elements(By.CSS_SELECTOR, \n",
    "                       'section[data-testid=\"title-cast\"] li.ipc-metadata-list-summary-item')\n",
    "        elenco = []\n",
    "        for ator in elenco_elems[:10]:\n",
    "            try:\n",
    "                nome = ator.find_element(By.CSS_SELECTOR, \n",
    "                           'a.ipc-metadata-list-summary-item__t').text.strip()\n",
    "                pers = ator.find_element(By.CSS_SELECTOR, \n",
    "                       'div.ipc-metadata-list-summary-item__supplemental').text.strip()\n",
    "                elenco.append({\"Ator/Atriz\": nome, \"Personagem\": pers})\n",
    "            except:\n",
    "                continue\n",
    "        serie[\"Elenco Principal\"] = elenco\n",
    "\n",
    "    except Exception as e:\n",
    "        print(f\"Erro ao processar {serie['Título']}: {e}\")"
   ]
  },
  {
   "cell_type": "markdown",
   "id": "1783c4be",
   "metadata": {},
   "source": [
    "## 5. Salvar resultados e encerrar"
   ]
  },
  {
   "cell_type": "code",
   "execution_count": null,
   "id": "e42ed238",
   "metadata": {},
   "outputs": [],
   "source": [
    "with open(\"series_imdb_top250.json\", \"w\", encoding=\"utf-8\") as f:\n",
    "    json.dump(series_list, f, indent=4, ensure_ascii=False)\n",
    "\n",
    "driver.quit()\n",
    "print(\"Arquivo salvo: series_imdb_top250.json\")"
   ]
  }
 ],
 "metadata": {},
 "nbformat": 4,
 "nbformat_minor": 5
}
