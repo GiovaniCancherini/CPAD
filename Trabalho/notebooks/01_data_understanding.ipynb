{
 "cells": [
  {
   "cell_type": "markdown",
   "id": "013031c9",
   "metadata": {},
   "source": [
    "## Carregamento dos Dados"
   ]
  },
  {
   "cell_type": "code",
   "execution_count": null,
   "id": "612df300",
   "metadata": {
    "vscode": {
     "languageId": "plaintext"
    }
   },
   "outputs": [],
   "source": [
    "from src.load_data import load_all_data\n",
    "from src.clean_data import clean_data\n",
    "from src.explore_data import summarize\n",
    "\n",
    "df_raw = load_all_data()\n",
    "df = clean_data(df_raw)\n",
    "summary = summarize(df)\n",
    "\n",
    "for key, value in summary.items():\n",
    "    print(f\"\\n### {key}:\\n\", value)"
   ]
  }
 ],
 "metadata": {
  "language_info": {
   "name": "python"
  }
 },
 "nbformat": 4,
 "nbformat_minor": 5
}
