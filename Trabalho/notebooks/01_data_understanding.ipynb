{
 "cells": [
  {
   "cell_type": "markdown",
   "id": "013031c9",
   "metadata": {},
   "source": [
    "## Carregamento dos Dados"
   ]
  }
 ],
 "metadata": {
  "language_info": {
   "name": "python"
  }
 },
 "nbformat": 4,
 "nbformat_minor": 5
}
