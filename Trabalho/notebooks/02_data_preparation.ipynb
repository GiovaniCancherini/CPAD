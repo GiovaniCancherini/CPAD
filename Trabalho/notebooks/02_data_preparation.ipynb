{
 "cells": [
  {
   "cell_type": "markdown",
   "id": "9d8ad752",
   "metadata": {},
   "source": [
    "## Planejamento de Pré-processamento"
   ]
  },
  {
   "cell_type": "code",
   "execution_count": 3,
   "id": "e76eddcc",
   "metadata": {},
   "outputs": [],
   "source": [
    "import sys\n",
    "import os\n",
    "sys.path.append(os.path.abspath(\"..\"))\n",
    "\n",
    "from src.load_data import load_all_data\n",
    "from src.clean_data import clean_data\n",
    "from src.explore_data import summarize\n",
    "from src.utils import idade\n",
    "\n",
    "df_raw = load_all_data()\n",
    "df = clean_data(df_raw)\n",
    "summary = summarize(df)\n",
    "\n",
    "df['IDADE'] = df.apply(lambda row: idade(row['DATA_NASCIMENTO'], row['ANO_CONCESSAO_BOLSA']), axis=1)"
   ]
  }
 ],
 "metadata": {
  "kernelspec": {
   "display_name": "cpad-venv",
   "language": "python",
   "name": "python3"
  },
  "language_info": {
   "codemirror_mode": {
    "name": "ipython",
    "version": 3
   },
   "file_extension": ".py",
   "mimetype": "text/x-python",
   "name": "python",
   "nbconvert_exporter": "python",
   "pygments_lexer": "ipython3",
   "version": "3.12.5"
  }
 },
 "nbformat": 4,
 "nbformat_minor": 5
}
