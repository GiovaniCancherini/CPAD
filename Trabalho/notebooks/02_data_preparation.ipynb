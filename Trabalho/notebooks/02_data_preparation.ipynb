{
 "cells": [
  {
   "cell_type": "markdown",
   "id": "9d8ad752",
   "metadata": {},
   "source": [
    "## Planejamento de Pré-processamento"
   ]
  },
  {
   "cell_type": "code",
   "execution_count": null,
   "id": "e76eddcc",
   "metadata": {
    "vscode": {
     "languageId": "plaintext"
    }
   },
   "outputs": [],
   "source": [
    "from src.utils import idade\n",
    "df['IDADE'] = df.apply(lambda row: idade(row['DATA_NASCIMENTO'], row['ANO_CONCESSAO_BOLSA']), axis=1)"
   ]
  }
 ],
 "metadata": {
  "language_info": {
   "name": "python"
  }
 },
 "nbformat": 4,
 "nbformat_minor": 5
}
