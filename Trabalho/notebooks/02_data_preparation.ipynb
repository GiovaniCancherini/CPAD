{
 "cells": [
  {
   "cell_type": "markdown",
   "id": "9d8ad752",
   "metadata": {},
   "source": [
    "## Planejamento de Pré-processamento"
   ]
  },
  {
   "cell_type": "code",
   "execution_count": null,
   "id": "e76eddcc",
   "metadata": {},
   "outputs": [],
   "source": [
    "from src.utils import idade\n",
    "df['IDADE'] = df.apply(lambda row: idade(row['DATA_NASCIMENTO'], row['ANO_CONCESSAO_BOLSA']), axis=1)"
   ]
  }
 ],
 "metadata": {
  "kernelspec": {
   "display_name": "cpad-venv",
   "language": "python",
   "name": "python3"
  },
  "language_info": {
   "name": "python",
   "version": "3.12.5"
  }
 },
 "nbformat": 4,
 "nbformat_minor": 5
}
