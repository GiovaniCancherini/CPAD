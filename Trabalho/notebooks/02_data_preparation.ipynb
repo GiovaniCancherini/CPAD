{
 "cells": [
  {
   "cell_type": "markdown",
   "id": "9d8ad752",
   "metadata": {},
   "source": [
    "## Planejamento de Pré-processamento"
   ]
  }
 ],
 "metadata": {
  "language_info": {
   "name": "python"
  }
 },
 "nbformat": 4,
 "nbformat_minor": 5
}
