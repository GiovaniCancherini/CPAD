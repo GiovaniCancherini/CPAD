import pandas as pd
from datetime import datetime
import unidecode  # certifique-se de instalar: pip install Unidecode

# Função para carregar e limpar os dados de um ano específico
def carregar_e_limpar_ano(caminho_csv, ano):
    df = pd.read_csv(caminho_csv, sep=";", encoding="latin1")
    
    # Padronizar nomes das colunas
    df.columns = df.columns.str.lower().str.strip()

    # Remover coluna desnecsessária
    if "cpf_beneficiario_bolsa" in df.columns:
        df = df.drop(columns=["cpf_beneficiario_bolsa"])

    # Corrigir datas e calcular idade
    if "dt_nascimento_beneficiario" in df.columns:
        df["dt_nascimento_beneficiario"] = pd.to_datetime(
            df["dt_nascimento_beneficiario"], format="%d/%m/%Y", errors="coerce"
        )
        df["idade"] = ano - df["dt_nascimento_beneficiario"].dt.year

    # Preencher ausentes
    for col in ["raca_beneficiario_bolsa", "sexo_beneficiario_bolsa", "beneficiario_deficiente_fisico"]:
        if col in df.columns:
            df[col] = df[col].fillna("Não informado")

    # Padronizar strings com unidecode (remove acentos)
    for coluna in ["nome_curso_bolsa", "nome_ies_bolsa", "modalidade_ensino_bolsa"]:
        if coluna in df.columns:
            df[coluna] = df[coluna].apply(lambda x: unidecode.unidecode(x.lower().strip()) if isinstance(x, str) else x)

    # Adicionar ano (redundante, mas seguro)
    df["ano_concessao_bolsa"] = ano

    return df

# CAMINHOS
caminhos = {
    2017: "pda-prouni-2017.csv",
    2018: "pda-prouni-2018.csv",
    2019: "pda-prouni-2019.csv",
    2020: "pda-prouni-2020.csv",
}

# CARREGAR E UNIR
dfs = [carregar_e_limpar_ano(caminho, ano) for ano, caminho in caminhos.items()]
df_prouni = pd.concat(dfs, ignore_index=True)


# SALVAR
df_prouni.to_csv("prouni_tratado_2017_2020.csv", index=False, encoding="utf-8")

# VISUALIZAR
print("Registros totais:", df_prouni.shape)
print(df_prouni.head())
