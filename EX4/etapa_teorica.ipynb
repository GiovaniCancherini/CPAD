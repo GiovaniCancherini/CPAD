{
 "cells": [
  {
   "cell_type": "markdown",
   "id": "26d81aa3",
   "metadata": {},
   "source": [
    "# Exercicio 4 - Etapa Teórica \n",
    "\n",
    "Dupla: Giovani Cancherini e Eduardo Traunig\n",
    "\n"
   ]
  },
  {
   "cell_type": "markdown",
   "id": "84017d3c",
   "metadata": {},
   "source": [
    "## Resolução dos Exercícios\n",
    "\n",
    "### Tabela: \n",
    "| f1    | f2    | f3    | f4    |\n",
    "|----------|----------|----------|----------|\n",
    "| 0,02  | True  | red   | 8,25 |\n",
    "| -2    | False | red   | 1,35 |\n",
    "| 0,57  | True  | yellow | 21,86 |\n",
    "| 1     | False | black | 3,06 |\n",
    "| -2    | True  | black | 1,58 |\n",
    "| 0,84  | True  | red   | 1,25 |\n",
    "| 0,66  | False | red   | 1,68 |\n",
    "| -1    | False | yellow | 1,01 |\n",
    "| 0,44  | True  | red   | 1,19 |\n",
    "| 0,32  | True  | red   | 1,47 |\n",
    "\n",
    "---"
   ]
  },
  {
   "cell_type": "code",
   "execution_count": null,
   "id": "615a6f26",
   "metadata": {},
   "outputs": [],
   "source": [
    "import pandas as pd\n",
    "import numpy as np\n",
    "\n",
    "data = {\n",
    "    'f1': [0.02, -2, 0.57, 1, -2, 0.84, 0.66, -1, 0.44, 0.32],\n",
    "    'f2': [True, False, True, False, True, True, False, False, True, True],\n",
    "    'f3': ['red', 'red', 'yellow', 'black', 'black', 'red', 'red', 'yellow', 'red', 'red'],\n",
    "    'f4': [8.25, 1.35, 21.86, 3.06, 1.58, 1.25, 1.68, 1.01, 1.19, 1.47]\n",
    "}\n",
    "\n",
    "df = pd.DataFrame(data)"
   ]
  },
  {
   "cell_type": "markdown",
   "id": "d5cda99e",
   "metadata": {},
   "source": [
    "1) Quais  atributos  são  categóricos  e  quais  atributos  são  numéricos? \n",
    "Apenas  com  as  informações  dadas  é  possível  identificar  dentre  os \n",
    "atributos numéricos quais são os tipos? "
   ]
  },
  {
   "cell_type": "code",
   "execution_count": null,
   "id": "a0cbe81c",
   "metadata": {},
   "outputs": [],
   "source": [
    "\"\"\"\n",
    "\n",
    "Categóricos: f2, f3\n",
    "    f2 = booleanos\n",
    "    f3 = cores\n",
    "\n",
    "Numéricos: f1, f4\n",
    "    ... = números continuos\n",
    "    \n",
    "\"\"\""
   ]
  },
  {
   "cell_type": "markdown",
   "id": "4174f3c4",
   "metadata": {},
   "source": [
    "--- \n",
    "\n",
    "2) Qual a moda de f3?"
   ]
  },
  {
   "cell_type": "code",
   "execution_count": null,
   "id": "bb19702e",
   "metadata": {},
   "outputs": [],
   "source": [
    "mode_f3 = df['f3'].mode()[0]\n",
    "print(\"Moda de f3:\", mode_f3)"
   ]
  },
  {
   "cell_type": "markdown",
   "id": "bdd8b1dd",
   "metadata": {},
   "source": [
    "---\n",
    "3) Compute a média, mediana, desvio padrão, variância, dos atributos \n",
    "f1 e f4. "
   ]
  },
  {
   "cell_type": "code",
   "execution_count": null,
   "id": "3fca33d8",
   "metadata": {},
   "outputs": [],
   "source": [
    "mean_f1 = df['f1'].mean()\n",
    "median_f1 = df['f1'].median()\n",
    "std_f1 = df['f1'].std()\n",
    "var_f1 = df['f1'].var()\n",
    "\n",
    "# f4\n",
    "mean_f4 = df['f4'].mean()\n",
    "median_f4 = df['f4'].median()\n",
    "std_f4 = df['f4'].std()\n",
    "var_f4 = df['f4'].var()\n",
    "\n",
    "print(\"f1 - Média:\", mean_f1, \"| Mediana:\", median_f1, \"| Desvio Padrão:\", std_f1, \"| Variância:\", var_f1)\n",
    "print(\"f4 - Média:\", mean_f4, \"| Mediana:\", median_f4, \"| Desvio Padrão:\", std_f4, \"| Variância:\", var_f4)"
   ]
  },
  {
   "cell_type": "markdown",
   "id": "c2063ea4",
   "metadata": {},
   "source": [
    "---\n",
    "4) Calcule a covariância entre os atributos f1 e f4. "
   ]
  },
  {
   "cell_type": "code",
   "execution_count": null,
   "id": "30bafce4",
   "metadata": {},
   "outputs": [],
   "source": [
    "cov_f1_f4 = df[['f1', 'f4']].cov().loc['f1', 'f4']\n",
    "print(\"Covariância entre f1 e f4:\", cov_f1_f4)"
   ]
  },
  {
   "cell_type": "markdown",
   "id": "214c8842",
   "metadata": {},
   "source": [
    "---\n",
    "5) Calcule a correlação existente entre os atributos f1 e f4."
   ]
  },
  {
   "cell_type": "markdown",
   "id": "a95b413a",
   "metadata": {},
   "source": [
    "corr_f1_f4 = df[['f1', 'f4']].corr().loc['f1', 'f4']\n",
    "print(\"Correlação entre f1 e f4:\", corr_f1_f4)"
   ]
  }
 ],
 "metadata": {
  "kernelspec": {
   "display_name": "cpad-venv",
   "language": "python",
   "name": "python3"
  },
  "language_info": {
   "codemirror_mode": {
    "name": "ipython",
    "version": 3
   },
   "file_extension": ".py",
   "mimetype": "text/x-python",
   "name": "python",
   "nbconvert_exporter": "python",
   "pygments_lexer": "ipython3",
   "version": "3.12.6"
  }
 },
 "nbformat": 4,
 "nbformat_minor": 5
}
