{
 "cells": [
  {
   "cell_type": "markdown",
   "id": "26d81aa3",
   "metadata": {},
   "source": [
    "# Exercicio 4 - Etapa Teórica \n",
    "\n",
    "Dupla: Giovani Cancherini e Eduardo Traunig\n",
    "\n"
   ]
  },
  {
   "cell_type": "markdown",
   "id": "84017d3c",
   "metadata": {},
   "source": [
    "## Resolução dos Exercícios\n",
    "\n",
    "### Tabela: \n",
    "| f1    | f2    | f3    | f4    |\n",
    "|----------|----------|----------|----------|\n",
    "| 0,02  | True  | red   | 8,25 |\n",
    "| -2    | False | red   | 1,35 |\n",
    "| 0,57  | True  | yellow | 21,86 |\n",
    "| 1     | False | black | 3,06 |\n",
    "| -2    | True  | black | 1,58 |\n",
    "| 0,84  | True  | red   | 1,25 |\n",
    "| 0,66  | False | red   | 1,68 |\n",
    "| -1    | False | yellow | 1,01 |\n",
    "| 0,44  | True  | red   | 1,19 |\n",
    "| 0,32  | True  | red   | 1,47 |\n",
    "\n",
    "---"
   ]
  },
  {
   "cell_type": "markdown",
   "id": "d5cda99e",
   "metadata": {},
   "source": [
    "1) Quais  atributos  são  categóricos  e  quais  atributos  são  numéricos? \n",
    "Apenas  com  as  informações  dadas  é  possível  identificar  dentre  os \n",
    "atributos numéricos quais são os tipos? "
   ]
  },
  {
   "cell_type": "code",
   "execution_count": null,
   "id": "a0cbe81c",
   "metadata": {},
   "outputs": [
    {
     "data": {
      "text/plain": [
       "'\\nCategóricos: f2, f3\\n    f2 = booleanos\\n    f3 = cores\\n\\nNuméricos: f1, f4\\n    números continuos\\n'"
      ]
     },
     "execution_count": 1,
     "metadata": {},
     "output_type": "execute_result"
    }
   ],
   "source": [
    "\"\"\"\n",
    "\n",
    "Categóricos: f2, f3\n",
    "    f2 = booleanos\n",
    "    f3 = cores\n",
    "\n",
    "Numéricos: f1, f4\n",
    "    ... = números continuos\n",
    "    \n",
    "\"\"\""
   ]
  },
  {
   "cell_type": "markdown",
   "id": "4174f3c4",
   "metadata": {},
   "source": [
    "--- \n",
    "\n",
    "2) Qual a moda de f3?"
   ]
  },
  {
   "cell_type": "code",
   "execution_count": null,
   "id": "bb19702e",
   "metadata": {},
   "outputs": [],
   "source": [
    "tabela = [\n",
    "    \n",
    "]"
   ]
  },
  {
   "cell_type": "markdown",
   "id": "bdd8b1dd",
   "metadata": {},
   "source": [
    "---\n",
    "3) Compute a média, mediana, desvio padrão, variância, dos atributos \n",
    "f1 e f4. "
   ]
  },
  {
   "cell_type": "code",
   "execution_count": null,
   "id": "3fca33d8",
   "metadata": {},
   "outputs": [],
   "source": []
  },
  {
   "cell_type": "markdown",
   "id": "c2063ea4",
   "metadata": {},
   "source": [
    "---\n",
    "4) Calcule a covariância entre os atributos f1 e f4. "
   ]
  },
  {
   "cell_type": "code",
   "execution_count": null,
   "id": "30bafce4",
   "metadata": {},
   "outputs": [],
   "source": []
  },
  {
   "cell_type": "markdown",
   "id": "214c8842",
   "metadata": {},
   "source": [
    "---\n",
    "5) Calcule a correlação existente entre os atributos f1 e f4."
   ]
  },
  {
   "cell_type": "markdown",
   "id": "a95b413a",
   "metadata": {},
   "source": []
  }
 ],
 "metadata": {
  "kernelspec": {
   "display_name": "cpad-venv",
   "language": "python",
   "name": "python3"
  },
  "language_info": {
   "codemirror_mode": {
    "name": "ipython",
    "version": 3
   },
   "file_extension": ".py",
   "mimetype": "text/x-python",
   "name": "python",
   "nbconvert_exporter": "python",
   "pygments_lexer": "ipython3",
   "version": "3.12.6"
  }
 },
 "nbformat": 4,
 "nbformat_minor": 5
}
