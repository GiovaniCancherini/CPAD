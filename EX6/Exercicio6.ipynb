{
 "cells": [
  {
   "cell_type": "markdown",
   "metadata": {},
   "source": [
    "# Exercicio 6 - Amostragem e Discretização\n",
    "\n",
    "Dupla: Giovani Cancherini e Eduardo Traunig\n",
    "\n",
    "---\n",
    "\n",
    "**Contexto:**\n",
    "\n",
    "O processo de amostragem consiste em selecionar um subconjunto dos dados para análise, motivado por vezes pelos requerimentos de processamento e memória. É crucial que as amostras sejam representativas, mantendo propriedades semelhantes às do conjunto de dados original. Existem diferentes tipos de amostragem:\n",
    "\n",
    "* **Amostragem Aleatória Simples:** Com ou sem reposição.\n",
    "* **Amostragem Estratificada:** Mantém a proporção dos estratos (categorias), sendo proporcional ou desproporcional (útil em datasets desbalanceados).\n",
    "* **Amostragem por Conglomerado:** Mantém a proporção dos grupos.\n",
    "\n",
    "A **Discretização** de atributos contínuos envolve decidir o número de categorias e uma função de mapeamento para converter valores contínuos em categorias, podendo ser representada por intervalos.\n",
    "\n",
    "Para atributos categóricos com muitas variações, pode ser necessário diminuir o número de categorias. Para variáveis ordinais, pode-se aplicar discretização; para nominais, conhecimento de domínio é essencial.\n",
    "\n",
    "A **Binarização e One-Hot Encoding** são técnicas de codificação de valores categóricos, transformando-os em representações numéricas binárias, úteis para algoritmos de Machine Learning."
   ]
  },
  {
   "cell_type": "markdown",
   "metadata": {},
   "source": [
    "## 1. Importação de Bibliotecas e Carregamento do Dataset\n",
    "\n",
    "Primeiramente, importaremos as bibliotecas necessárias para as operações de manipulação de dados e amostragem, e carregaremos o dataset `alugueis.csv`."
   ]
  },
  {
   "cell_type": "code",
   "execution_count": null,
   "metadata": {},
   "outputs": [],
   "source": [
    "import pandas as pd\n",
    "import numpy as np\n",
    "\n",
    "# Carregar o dataset 'alugueis.csv'\n",
    "try:\n",
    "    df_alugueis = pd.read_csv('alugueis.csv')\n",
    "    print(\"Dataset 'alugueis.csv' carregado com sucesso!\")\n",
    "    print(\"Primeiras 5 linhas do DataFrame:\")\n",
    "    print(df_alugueis.head())\n",
    "    print(\"\\nInformações do DataFrame:\")\n",
    "    df_alugueis.info()\n",
    "except FileNotFoundError:\n",
    "    print(\"Erro: O arquivo 'alugueis.csv' não foi encontrado. Certifique-se de que está no mesmo diretório.\")\n",
    "   "
   ]
  },
  {
   "cell_type": "markdown",
   "metadata": {},
   "source": [
    "## 2. Amostragem Aleatória\n",
    "\n",
    "**Pergunta:** Escreva o corpo da função `amostragem_aleatória(dataframe, amostras, reposicao=True)`.\n",
    "\n",
    "Essa função recebe três parâmetros:\n",
    "* `dataframe`: pandas DataFrame contendo os dados.\n",
    "* `amostras`: número de amostras desejadas.\n",
    "* `reposicao`: amostragem com ou sem reposição.\n",
    "\n",
    "Essa função deve retornar um DataFrame com o número exato de amostras. **Não pode usar as funções de amostragem prontas do pandas!**\n",
    "\n",
    "### Implementação da Função `amostragem_aleatoria`"
   ]
  },
  {
   "cell_type": "code",
   "execution_count": null,
   "metadata": {},
   "outputs": [],
   "source": [
    "def amostragem_aleatoria(dataframe, amostras, reposicao=True):\n",
    "    num_linhas = len(dataframe)\n",
    "    indices_selecionados = []\n",
    "\n",
    "    if reposicao:\n",
    "        for _ in range(amostras):\n",
    "            idx = np.random.randint(0, num_linhas)\n",
    "            indices_selecionados.append(idx)\n",
    "    else:\n",
    "        if amostras > num_linhas:\n",
    "            raise ValueError(\"O número de amostras sem reposição não pode ser maior que o número total de linhas do DataFrame.\")\n",
    "        \n",
    "        indices_disponiveis = list(range(num_linhas))\n",
    "        for _ in range(amostras):\n",
    "            idx_selecionado = np.random.randint(0, len(indices_disponiveis))\n",
    "            indices_selecionados.append(indices_disponiveis.pop(idx_selecionado)) # Remove o index selecionado\n",
    "\n",
    "    return dataframe.iloc[indices_selecionados].reset_index(drop=True)"
   ]
  },
  {
   "cell_type": "markdown",
   "metadata": {},
   "source": [
    "### Teste da Função `amostragem_aleatoria`\n",
    "\n",
    "Vamos criar um dataset com 100 amostras usando a função desenvolvida."
   ]
  },
  {
   "cell_type": "code",
   "execution_count": null,
   "metadata": {},
   "outputs": [],
   "source": [
    "print(\"--- Teste de Amostragem Aleatória (100 amostras com reposição) ---\")\n",
    "df_amostra_100_com_reposicao = amostragem_aleatoria(df_alugueis, 100, reposicao=True)\n",
    "print(f\"Shape do dataset amostrado: {df_amostra_100_com_reposicao.shape}\")\n",
    "print(\"Primeiras 5 linhas da amostra:\")\n",
    "print(df_amostra_100_com_reposicao.head())\n",
    "\n",
    "print(\"\\n--- Teste de Amostragem Aleatória (100 amostras sem reposição) ---\")\n",
    "if len(df_alugueis) >= 100:\n",
    "    df_amostra_100_sem_reposicao = amostragem_aleatoria(df_alugueis, 100, reposicao=False)\n",
    "    print(f\"Shape do dataset amostrado: {df_amostra_100_sem_reposicao.shape}\")\n",
    "    print(\"Primeiras 5 linhas da amostra:\")\n",
    "    print(df_amostra_100_sem_reposicao.head())\n",
    "else:\n",
    "    print(\"O DataFrame original tem menos de 100 linhas. Não é possível realizar amostragem sem reposição para 100 amostras.\")"
   ]
  },
  {
   "cell_type": "markdown",
   "metadata": {},
   "source": [
    "## 3. Amostragem Estratificada\n",
    "\n",
    "**Pergunta:** Escreva uma função com a assinatura mostrada abaixo: `amostragem_estratificada(dataframe, amostras, coluna)`.\n",
    "\n",
    "Essa função recebe três parâmetros:\n",
    "* `dataframe`: pandas DataFrame contendo os dados.\n",
    "* `amostras`: número de amostras desejadas.\n",
    "* `coluna`: nome de uma coluna do dataset (para estratificação).\n",
    "\n",
    "Essa função deve retornar um DataFrame com o número exato de amostras, mantendo a proporção de valores da coluna escolhida presente no DataFrame original.\n",
    "\n",
    "**Exemplo:**\n",
    "Dataset Entrada (100 registros)\n",
    "| Valor da Coluna | Qtde Valores |\n",
    "| :-------------- | :----------- |\n",
    "| A               | 50           |\n",
    "| B               | 30           |\n",
    "| C               | 10           |\n",
    "| D               | 20           |\n",
    "\n",
    "Dataset Saída (10 registros)\n",
    "| Valor da Coluna | Qtde Valores |\n",
    "| :-------------- | :----------- |\n",
    "| A               | 5            |\n",
    "| B               | 3            |\n",
    "| C               | 1            |\n",
    "| D               | 2            |\n",
    "\n",
    "### Implementação da Função `amostragem_estratificada`"
   ]
  },
  {
   "cell_type": "code",
   "execution_count": null,
   "metadata": {},
   "outputs": [],
   "source": [
    "def amostragem_estratificada(dataframe, amostras, coluna):\n",
    "    if coluna not in dataframe.columns:\n",
    "        raise ValueError(f\"A coluna '{coluna}' não existe no DataFrame.\")\n",
    "\n",
    "    # Calcular as proporções de cada estrato (categoria na coluna)\n",
    "    proporcoes = dataframe[coluna].value_counts(normalize=True)\n",
    "\n",
    "    df_amostrado = pd.DataFrame()\n",
    "\n",
    "    # Calcular o número de amostras para cada estrato e amostrar\n",
    "    for estrato, proporcao in proporcoes.items():\n",
    "        # Calcula o número de amostras para o estrato, arredondando para o inteiro mais próximo\n",
    "        n_amostras_estrato = round(amostras * proporcao)\n",
    "        \n",
    "        # Filtrar o DataFrame para obter apenas as linhas do estrato atual\n",
    "        df_estrato = dataframe[dataframe[coluna] == estrato]\n",
    "\n",
    "        # Garantir que o número de amostras não exceda o tamanho do estrato original\n",
    "        if n_amostras_estrato > len(df_estrato):\n",
    "            n_amostras_estrato = len(df_estrato) # Amostrar o máximo possível do estrato\n",
    "\n",
    "        # Se houver amostras para o estrato, utilize a função de amostragem aleatória\n",
    "        if n_amostras_estrato > 0:\n",
    "            amostra_estrato = amostragem_aleatoria(df_estrato, n_amostras_estrato, reposicao=False)\n",
    "            df_amostrado = pd.concat([df_amostrado, amostra_estrato])\n",
    "            \n",
    "    return df_amostrado.sample(n=amostras, random_state=42, replace=False).reset_index(drop=True)"
   ]
  },
  {
   "cell_type": "markdown",
   "metadata": {},
   "source": [
    "### Teste da Função `amostragem_estratificada`\n",
    "\n",
    "Vamos criar um dataset com 200 amostras, preservando a proporção de imóveis em cada city."
   ]
  },
  {
   "cell_type": "code",
   "execution_count": null,
   "metadata": {},
   "outputs": [],
   "source": [
    "print(\"--- Teste de Amostragem Estratificada (200 amostras por 'Cidade') ---\")\n",
    "if 'city' in df_alugueis.columns:\n",
    "    print(\"\\nProporção original de Cidades no DataFrame completo:\")\n",
    "    proporcao_original = df_alugueis['city'].value_counts(normalize=True).sort_index()\n",
    "    print(proporcao_original)\n",
    "\n",
    "    df_amostra_200_estratificada_cidade = amostragem_estratificada(df_alugueis, 200, 'city')\n",
    "    print(f\"\\nShape do dataset amostrado: {df_amostra_200_estratificada_cidade.shape}\")\n",
    "\n",
    "    print(\"\\nProporção de Cidades na amostra estratificada:\")\n",
    "    proporcao_amostra = df_amostra_200_estratificada_cidade['city'].value_counts(normalize=True).sort_index()\n",
    "    print(proporcao_amostra)\n",
    "\n",
    "    print(\"\\nComparação das proporções (Original vs. Amostra):\")\n",
    "    comparacao_proporcoes = pd.DataFrame({\n",
    "        'Proporção Original': proporcao_original,\n",
    "        'Proporção na Amostra': proporcao_amostra\n",
    "    }).fillna(0) \n",
    "    print(comparacao_proporcoes)\n",
    "    \n",
    "    print(\"\\nPrimeiras 5 linhas da amostra estratificada:\")\n",
    "    print(df_amostra_200_estratificada_cidade.head())\n",
    "else:\n",
    "    print(\"Coluna 'Cidade' não encontrada no DataFrame. Impossível realizar amostragem estratificada por cidade.\")"
   ]
  },
  {
   "cell_type": "markdown",
   "metadata": {},
   "source": [
    "## 4. Discretização do Atributo 'area' do Imóvel\n",
    "\n",
    "**Pergunta:** Faça a discretização do atributo `area` do imóvel em três categorias:\n",
    "* \"PEQUENO\" = até 50m²\n",
    "* \"MÉDIO\" = 50 até 100m²\n",
    "* \"GRANDE\" = > 100m²"
   ]
  },
  {
   "cell_type": "code",
   "execution_count": null,
   "metadata": {},
   "outputs": [],
   "source": [
    "print(\"--- Discretização do atributo 'area' ---\")\n",
    "if 'area' in df_alugueis.columns:\n",
    "    # Definir os limites dos intervalos e os rótulos das categorias\n",
    "    # [0, 50) -> PEQUENO\n",
    "    # [50, 100) -> MÉDIO\n",
    "    # [100, inf) -> GRANDE\n",
    "    bins = [0, 50, 100, np.inf]\n",
    "    labels = ['PEQUENO', 'MÉDIO', 'GRANDE']\n",
    "    \n",
    "    # Realizar a discretização usando pd.cut\n",
    "    df_alugueis['area_categoria'] = pd.cut(df_alugueis['area'], bins=bins, labels=labels, right=False)\n",
    "\n",
    "    print(\"\\nContagem de valores para a nova coluna 'area_categoria':\")\n",
    "    print(df_alugueis['area_categoria'].value_counts().sort_index())\n",
    "    print(\"\\nExemplo de linhas com as colunas 'area' e 'area_categoria':\")\n",
    "    print(df_alugueis[['area', 'area_categoria']].head(10))\n",
    "else:\n",
    "    print(\"Coluna 'area' não encontrada no DataFrame. Impossível realizar a discretização.\")"
   ]
  },
  {
   "cell_type": "markdown",
   "metadata": {},
   "source": [
    "## 5. Discretização e One-Hot Encoding do Atributo 'total'\n",
    "\n",
    "**Pergunta:** Divida o atributo `total` em 5 categorias e utilize One-Hot Encoding para discretizá-lo."
   ]
  },
  {
   "cell_type": "code",
   "execution_count": null,
   "metadata": {},
   "outputs": [],
   "source": [
    "print(\"--- Discretização e One-Hot Encoding do atributo 'total' ---\")\n",
    "if 'total' in df_alugueis.columns:\n",
    "    num_categorias_total = 5\n",
    "    \n",
    "    # Discretização do atributo 'total' em 5 categorias de igual frequência (quantis)\n",
    "    # labels=False retorna inteiros para as categorias (0, 1, 2, 3, 4)\n",
    "    # duplicates='drop' lida com valores idênticos que poderiam criar bins vazios\n",
    "    df_alugueis['total_categoria'] = pd.qcut(df_alugueis['total'], q=num_categorias_total, labels=False, duplicates='drop')\n",
    "\n",
    "    print(f\"\\nContagem de valores para a nova coluna 'total_categoria' ({num_categorias_total} categorias):\")\n",
    "    print(df_alugueis['total_categoria'].value_counts().sort_index())\n",
    "    print(\"\\nExemplo de linhas com as colunas 'total' e 'total_categoria':\")\n",
    "    print(df_alugueis[['total', 'total_categoria']].head(10))\n",
    "\n",
    "    # Aplicação de One-Hot Encoding nas categorias do 'total'\n",
    "    df_total_one_hot = pd.get_dummies(df_alugueis['total_categoria'], prefix='total_cat')\n",
    "\n",
    "    print(\"\\nDataFrame resultante do One-Hot Encoding para 'total_categoria':\")\n",
    "    print(df_total_one_hot.head())\n",
    "\n",
    "    # Opcional: Adicionar as colunas de One-Hot Encoding ao DataFrame original\n",
    "    # Isso é comum para integrar as novas features ao conjunto de dados principal\n",
    "    df_alugueis = pd.concat([df_alugueis, df_total_one_hot], axis=1)\n",
    "    print(\"\\nPrimeiras 5 linhas do DataFrame 'alugueis' após adicionar as colunas de One-Hot Encoding:\")\n",
    "    print(df_alugueis.head())\n",
    "    print(f\"\\nShape final do DataFrame após One-Hot Encoding: {df_alugueis.shape}\")\n",
    "else:\n",
    "    print(\"Coluna 'total' não encontrada no DataFrame. Impossível realizar discretização e One-Hot Encoding.\")"
   ]
  }
 ],
 "metadata": {
  "kernelspec": {
   "display_name": "cpad-venv",
   "language": "python",
   "name": "python3"
  },
  "language_info": {
   "codemirror_mode": {
    "name": "ipython",
    "version": 3
   },
   "file_extension": ".py",
   "mimetype": "text/x-python",
   "name": "python",
   "nbconvert_exporter": "python",
   "pygments_lexer": "ipython3",
   "version": "3.12.5"
  }
 },
 "nbformat": 4,
 "nbformat_minor": 4
}
