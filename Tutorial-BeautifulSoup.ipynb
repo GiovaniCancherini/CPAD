{
 "cells": [
  {
   "cell_type": "code",
   "execution_count": null,
   "id": "66fa2486-95ab-4d4c-8936-82a2acf7be1c",
   "metadata": {},
   "outputs": [],
   "source": [
    "# Beautiful Soup"
   ]
  },
  {
   "cell_type": "markdown",
   "id": "94af2da2-d85c-4ae6-b30c-3ed07fdbe53e",
   "metadata": {},
   "source": [
    "## Introdução\n",
    "\n",
    "Nesta aula veremos como utilizar na prática a biblioteca BeautifulSoup, muito útil para realizar web scraping em sites que não utilizam conteúdos dinâmicos.\n",
    "\n",
    "Este laboratório tem como base a própria documentação da bilioteca, que pode ser encontrada em:\n",
    "https://www.crummy.com/software/BeautifulSoup/bs4/doc/"
   ]
  },
  {
   "cell_type": "markdown",
   "id": "b496200f-7947-4da4-a64d-8272225e1aaf",
   "metadata": {},
   "source": [
    "## Preâmbulo\n",
    "\n",
    "Antes de rodar o código acima, é necessário instalar a biblioteca Beautiful Soup no seu ambiente de desenvolvimento Python.\n",
    "\n",
    "É interessante criar um ambiente vitual de desenvolvimento antes de instalar a biblioteca. Neste curso, usaremos o conda para criar e gerenciar nossos ambientes virtuais.\n",
    "\n",
    "Seguem os comandos para criar um abiente virtual e instalar a biblioteca no Python:\n",
    "\n",
    "```\n",
    "conda create --name ambiente-cpa-p3 python 3.12\n",
    "\n",
    "conda activate ambiente-cpa-p3\n",
    "\n",
    "conda install bs4 html5lib\n",
    "```"
   ]
  },
  {
   "cell_type": "markdown",
   "id": "6bc8b6d5-3c44-47ff-84c7-b2af20b53830",
   "metadata": {},
   "source": [
    "---"
   ]
  },
  {
   "cell_type": "markdown",
   "id": "2853690a-fe29-4c28-a5f7-16c8fa837f99",
   "metadata": {},
   "source": [
    "## Obtendo páginas na Web"
   ]
  },
  {
   "cell_type": "code",
   "execution_count": null,
   "id": "6a19372a-b89e-4b33-a534-955f2474f6ac",
   "metadata": {},
   "outputs": [],
   "source": [
    "# Essa função é utilizada para recuperar o html de uma página web\n",
    "from urllib.request import urlopen"
   ]
  },
  {
   "cell_type": "code",
   "execution_count": null,
   "id": "3a8a27db-e855-44bb-b112-a06c2a11e489",
   "metadata": {},
   "outputs": [],
   "source": [
    "# Abrindo uma página\n",
    "html = urlopen('http://www.pythonscraping.com/pages/page1.html')\n",
    "site = html.read()\n",
    "print(site)"
   ]
  },
  {
   "cell_type": "markdown",
   "id": "abfc8369-11bd-4503-9f22-a2c7623fbd9c",
   "metadata": {},
   "source": [
    "## Tratamento de Erros"
   ]
  },
  {
   "cell_type": "markdown",
   "id": "2cd8c93d-bb46-483b-8cbe-92cd1d92785e",
   "metadata": {},
   "source": [
    "Ao abrir uma url usano a função ``urlopen`` temos dois problemas principais que podem ocorrer:\n",
    "- A página pode não estar no servidor\n",
    "- O servidor não existe / não foi encontrado\n",
    "No primeiro caso o servidor retornará um erro do tipo 404 - Page not found ou 500 - Internal server error. Em ambos os casos o python lança uma exceção do tipo ``HTTPError``. No segundo caso o erro que ocorre é ``URLError``.\n",
    "\n",
    "Essas exceções devem sempre ser tratadas em nosso código, evitando erros desnecessários"
   ]
  },
  {
   "cell_type": "code",
   "execution_count": null,
   "id": "2095d400-1e2b-4cdc-a18f-97e71daeb9d8",
   "metadata": {},
   "outputs": [],
   "source": [
    "from urllib.error import HTTPError, URLError\n",
    "\n",
    "def get_pagina(url):\n",
    "    try:\n",
    "        html = urlopen(url)\n",
    "    except HTTPError as e:\n",
    "        print(\"Houve um erro na obtenção da página! \", e)\n",
    "        return None\n",
    "    except URLError as e:\n",
    "        print(\"Ocorreu um erro no servidor!\", e)\n",
    "        return None\n",
    "    else:\n",
    "        print(\"Consegui abrir a página\")\n",
    "        return html.read()\n",
    "    "
   ]
  },
  {
   "cell_type": "code",
   "execution_count": null,
   "id": "13899a8c-98ee-487d-a4eb-47c43284eebe",
   "metadata": {},
   "outputs": [],
   "source": [
    "pagina = get_pagina('http://www.google.com.br/lucas')\n",
    "if pagina is not None:\n",
    "    print(pagina)\n"
   ]
  },
  {
   "cell_type": "code",
   "execution_count": null,
   "id": "8ef4d16f-b728-4c2e-b664-56ac53c09311",
   "metadata": {},
   "outputs": [],
   "source": [
    "pagina = get_pagina('http://www.joogle.com.br/')\n",
    "if pagina is not None:\n",
    "    print(pagina)"
   ]
  },
  {
   "cell_type": "code",
   "execution_count": null,
   "id": "659405a9-11fc-4ef2-8582-c87bd8604754",
   "metadata": {},
   "outputs": [],
   "source": [
    "pagina = get_pagina('https://www.google.com.br')\n",
    "if pagina is not None:\n",
    "    print(pagina)"
   ]
  },
  {
   "cell_type": "markdown",
   "id": "c75effe8-1e2d-49bc-87e6-feb32321849b",
   "metadata": {},
   "source": [
    "---"
   ]
  },
  {
   "cell_type": "markdown",
   "id": "fb1739ce-cb8f-4230-8688-93ad053f28b2",
   "metadata": {},
   "source": [
    "## Arquivo ``robots.txt``"
   ]
  },
  {
   "cell_type": "code",
   "execution_count": null,
   "id": "0a39f63d-f350-4a04-bfcd-7c54cd29fbf1",
   "metadata": {},
   "outputs": [],
   "source": [
    "import urllib.robotparser"
   ]
  },
  {
   "cell_type": "code",
   "execution_count": null,
   "id": "455e2f87-f693-4822-bf2c-480c248bd819",
   "metadata": {},
   "outputs": [],
   "source": [
    "# Lê o arquivo robots.txt\n",
    "rp = urllib.robotparser.RobotFileParser()\n",
    "rp.set_url('https://g1.globo.com/robots.txt')\n",
    "rp.read()"
   ]
  },
  {
   "cell_type": "code",
   "execution_count": null,
   "id": "5e9df8f5-c8d5-4973-9c30-f78e09dfd515",
   "metadata": {},
   "outputs": [],
   "source": [
    "rrate = rp.can_fetch(\"*\", \"https://g1.globo.com/\")\n",
    "print(rrate)"
   ]
  },
  {
   "cell_type": "code",
   "execution_count": null,
   "id": "7c9407d2-2830-4462-b2ba-6cb6a60d96af",
   "metadata": {},
   "outputs": [],
   "source": [
    "rrate = rp.can_fetch(\"GPTBot\", \"https://g1.globo.com/\")\n",
    "print(rrate)"
   ]
  },
  {
   "cell_type": "code",
   "execution_count": null,
   "id": "cd832910-0545-42b0-9552-c1ac66fefb5b",
   "metadata": {},
   "outputs": [],
   "source": [
    "rrate = rp.can_fetch(\"*\", \"https://g1.globo.com/jornalismo/g1/\")\n",
    "print(rrate)"
   ]
  },
  {
   "cell_type": "markdown",
   "id": "6a0c0099-9c36-4aa4-8b9b-aee69cd31899",
   "metadata": {},
   "source": [
    "---"
   ]
  },
  {
   "cell_type": "markdown",
   "id": "277481ec-e98d-4219-bc29-b0b952428838",
   "metadata": {},
   "source": [
    "## Basicão do BS"
   ]
  },
  {
   "cell_type": "code",
   "execution_count": null,
   "id": "7282eac4-adb3-4403-ac4b-7848eeab3c2b",
   "metadata": {},
   "outputs": [],
   "source": [
    "# Importando a classe principal da biblioteca BeautifulSoup\n",
    "from bs4 import BeautifulSoup"
   ]
  },
  {
   "cell_type": "code",
   "execution_count": null,
   "id": "ad37a755-7cc7-4ffe-afbc-ceaad735f873",
   "metadata": {
    "scrolled": true
   },
   "outputs": [],
   "source": [
    "# Cria o objeto BeautifulSoup\n",
    "bs = BeautifulSoup(site, 'html.parser')\n",
    "print(bs.prettify())"
   ]
  },
  {
   "cell_type": "code",
   "execution_count": null,
   "id": "052ac0d9-730c-452e-aea5-5eae0d799849",
   "metadata": {},
   "outputs": [],
   "source": [
    "print(bs.h1)"
   ]
  },
  {
   "cell_type": "code",
   "execution_count": null,
   "id": "7270fb25-5159-46d0-9541-96a9fd88d822",
   "metadata": {},
   "outputs": [],
   "source": [
    "print(bs.h1.text)"
   ]
  },
  {
   "cell_type": "markdown",
   "id": "f1862c93-f892-436c-be9b-776b036eba0b",
   "metadata": {},
   "source": [
    "Note que essa forma de indexar os elementos do HTML só permite retornar a **primeira ocorrência** de cada um. Por exemplo, se houver duas tagas `h1` em uma página somente a primeira poderá ser obtida dessa forma."
   ]
  },
  {
   "cell_type": "markdown",
   "id": "e20b0f0a-19d2-4d01-9cf2-e759c457a236",
   "metadata": {},
   "source": [
    "### Exercício\n",
    "Recupere o conteúdo da tag `div`"
   ]
  },
  {
   "cell_type": "markdown",
   "id": "3909b494-d538-41de-805b-ed4c4e7c99f5",
   "metadata": {
    "jp-MarkdownHeadingCollapsed": true
   },
   "source": [
    "---"
   ]
  },
  {
   "cell_type": "markdown",
   "id": "d0a67d20-cc14-427a-8a90-4552f096e142",
   "metadata": {},
   "source": [
    "Abaixo criaremos uma variável com o HTML que utilizaremos como exemplo neste laboratório. É um trecho de \"Alice no País das Maravilhas\" formatado em HTML."
   ]
  },
  {
   "cell_type": "code",
   "execution_count": null,
   "id": "d823c4aa-8cbf-4f76-a4a7-54a989285b8f",
   "metadata": {},
   "outputs": [],
   "source": [
    "html_doc = \"\"\"\n",
    "<html><head><title>The Dormouse's story</title></head>\n",
    "<body>\n",
    "<p class=\"title\"><b>The Dormouse's story</b></p>\n",
    "\n",
    "<p class=\"story\">Once upon a time there were three little sisters; and their names were\n",
    "<a href=\"http://example.com/elsie\" class=\"sister\" id=\"link1\">Elsie</a>,\n",
    "<a href=\"http://example.com/lacie\" class=\"sister\" id=\"link2\">Lacie</a> and\n",
    "<a href=\"http://example.com/tillie\" class=\"sister\" id=\"link3\">Tillie</a>;\n",
    "and they lived at the bottom of a well.</p>\n",
    "\n",
    "<p class=\"story\">...</p>\n",
    "\"\"\""
   ]
  },
  {
   "cell_type": "code",
   "execution_count": null,
   "id": "f3af4f25-70c3-4dca-8f10-21f17129a53c",
   "metadata": {},
   "outputs": [],
   "source": [
    "soup = BeautifulSoup(html_doc)\n",
    "print(soup.prettify())"
   ]
  },
  {
   "cell_type": "markdown",
   "id": "cccc90c2-895e-4c3c-bfa7-27c3c4b2448b",
   "metadata": {},
   "source": [
    "## Acesso aos atributos e Movimentação"
   ]
  },
  {
   "cell_type": "markdown",
   "id": "4d0bad6d-cd1c-48a6-ada6-257a7e9b250f",
   "metadata": {},
   "source": [
    "Podemos acessar os atributos de forma semelhante com a qual acessamos os valores de um dicionário."
   ]
  },
  {
   "cell_type": "code",
   "execution_count": null,
   "id": "d1f3e2ed-ca4b-4cbc-8139-b36d02e03e54",
   "metadata": {},
   "outputs": [],
   "source": [
    "soup.body.a['href']"
   ]
  },
  {
   "cell_type": "markdown",
   "id": "e254f04d-80d6-4393-a602-9015268c02d7",
   "metadata": {},
   "source": [
    "### Exercício\n",
    "Escreva o código que acessa o conteúdo do atributo class da primeira tag \"p\" que está dentro de body\n",
    "A saída deve ser: `['title']`\n"
   ]
  },
  {
   "cell_type": "code",
   "execution_count": null,
   "id": "52331b49-e0aa-4e03-b2be-19cdae59c14a",
   "metadata": {},
   "outputs": [],
   "source": []
  },
  {
   "cell_type": "markdown",
   "id": "3ec0048e-94a9-40d9-8bed-943a15971e14",
   "metadata": {},
   "source": [
    "Para acessar todos os filhos de uma tag, podemos utilizar o método ```.contents``` ou o gerador de listas ```.children```"
   ]
  },
  {
   "cell_type": "code",
   "execution_count": null,
   "id": "0a80cb48-553a-44be-9d38-ff1630899e14",
   "metadata": {},
   "outputs": [],
   "source": [
    "tag_head = soup.head\n",
    "tag_head"
   ]
  },
  {
   "cell_type": "code",
   "execution_count": null,
   "id": "a4c6a7d5-46fa-4b99-bdfb-b6dc723d34ab",
   "metadata": {},
   "outputs": [],
   "source": [
    "tag_head.contents"
   ]
  },
  {
   "cell_type": "markdown",
   "id": "3dcc21aa-6d62-4f65-9c36-bb69e1e5dc59",
   "metadata": {},
   "source": [
    "Em alguns casos podemos querer também os “filhos dos filhos”, nesse caso podemos utilizar o método ```.descendants```"
   ]
  },
  {
   "cell_type": "code",
   "execution_count": null,
   "id": "056aa6bc-b871-4c60-b266-0fb686587ed7",
   "metadata": {},
   "outputs": [],
   "source": [
    "for filho in tag_head.descendants:\n",
    "    print(filho)"
   ]
  },
  {
   "cell_type": "markdown",
   "id": "ba8ec8a7-a079-4e3c-9c78-ff8b2c0c598a",
   "metadata": {},
   "source": [
    "Quando a tag possui apenas uma ```NavigableString``` como filho, podemos acessar pelo ```.string```, caso possua mais de um podemos acessar via ```.strings``` e ```.stripped_strings```\n"
   ]
  },
  {
   "cell_type": "code",
   "execution_count": null,
   "id": "d4ffc795-1d54-468c-817e-4210316128aa",
   "metadata": {},
   "outputs": [],
   "source": [
    "tag_titulo = soup.head.title\n",
    "tag_titulo"
   ]
  },
  {
   "cell_type": "code",
   "execution_count": null,
   "id": "032a228c-6861-4b6e-924d-47229de1b5c0",
   "metadata": {},
   "outputs": [],
   "source": [
    "tag_titulo.string"
   ]
  },
  {
   "cell_type": "code",
   "execution_count": null,
   "id": "d24d63f5-d1dd-40cf-aa49-180fcdde5352",
   "metadata": {},
   "outputs": [],
   "source": [
    "print(type(tag_titulo.string))\n",
    "titulo = str(tag_titulo.string)\n",
    "print(titulo, type(titulo))"
   ]
  },
  {
   "cell_type": "markdown",
   "id": "11021754-0e1e-44f7-adfd-e218a9c3ac68",
   "metadata": {},
   "source": [
    "Podemos visitar também tags irmãs acessando os métodos ```.next_siblings``` e ```.previous_siblings```"
   ]
  },
  {
   "cell_type": "code",
   "execution_count": null,
   "id": "80aab266-9cda-4a82-8225-bfaacc794e7c",
   "metadata": {},
   "outputs": [],
   "source": [
    "link = soup.a\n",
    "print(link)"
   ]
  },
  {
   "cell_type": "code",
   "execution_count": null,
   "id": "a2f11c96-e1dd-415f-82d6-94d6f500f9a1",
   "metadata": {},
   "outputs": [],
   "source": [
    "link.next_sibling"
   ]
  },
  {
   "cell_type": "code",
   "execution_count": null,
   "id": "3d3ac9ee-5866-47f2-9ff2-c4128ac78b52",
   "metadata": {},
   "outputs": [],
   "source": [
    "for irmao in link.next_siblings:\n",
    "    print(\"[\", irmao, \"]\")"
   ]
  },
  {
   "cell_type": "markdown",
   "id": "9bd5612e-e9c8-41ad-884d-1693bf26e3fa",
   "metadata": {},
   "source": [
    "## Funções de Busca"
   ]
  },
  {
   "cell_type": "markdown",
   "id": "75bd621a-5c9b-4b67-9fa3-2d9b1b183062",
   "metadata": {},
   "source": [
    "As funções de busca tem como objetivo encontrar elementos dentro das páginas web. Existem duas funções de busca: `find` e `find_all`"
   ]
  },
  {
   "cell_type": "markdown",
   "id": "c0b426d4-f3c0-46f1-87af-2bdd8c1ed896",
   "metadata": {},
   "source": [
    "### Busca por string"
   ]
  },
  {
   "cell_type": "code",
   "execution_count": null,
   "id": "0b1d535a-dd39-4cb1-98bc-3c96da32ad48",
   "metadata": {},
   "outputs": [],
   "source": [
    "soup.find('a')"
   ]
  },
  {
   "cell_type": "code",
   "execution_count": null,
   "id": "f9ce012d-d719-4059-9f08-ad12f6628e42",
   "metadata": {},
   "outputs": [],
   "source": [
    "soup.find_all('a')"
   ]
  },
  {
   "cell_type": "markdown",
   "id": "98ef59fa-c3bf-4104-81a3-6e622b5e3581",
   "metadata": {},
   "source": [
    "### Exercício\n",
    "Qual a diferença entre as funções find e find_all?"
   ]
  },
  {
   "cell_type": "markdown",
   "id": "b0fe86e8-8a9f-44f0-b9f0-348f9a960812",
   "metadata": {},
   "source": [
    "### Busca por Regex"
   ]
  },
  {
   "cell_type": "code",
   "execution_count": null,
   "id": "bd9f5d58-12e2-4f64-bd5a-da9f7dcee037",
   "metadata": {},
   "outputs": [],
   "source": [
    "import re \n",
    "for tag in soup.find_all(re.compile(\"^b\")):\n",
    "    print(tag.name)"
   ]
  },
  {
   "cell_type": "markdown",
   "id": "39364187-715e-42a6-b5f2-164fbed5f3e5",
   "metadata": {},
   "source": [
    "### Busca por lista\n",
    "Match com um elemento de uma lista"
   ]
  },
  {
   "cell_type": "code",
   "execution_count": null,
   "id": "32bdc8ee-3c97-4d33-b469-148ec2717d63",
   "metadata": {},
   "outputs": [],
   "source": [
    "soup.find_all([\"a\", \"b\"])"
   ]
  },
  {
   "cell_type": "markdown",
   "id": "fb002d2e-8357-4446-b321-aa391bf76c85",
   "metadata": {},
   "source": [
    "### True"
   ]
  },
  {
   "cell_type": "code",
   "execution_count": null,
   "id": "df20b9b6-cd9a-40c3-bfa4-6f70b9cfa50d",
   "metadata": {},
   "outputs": [],
   "source": [
    "for tag in soup.find_all(True):\n",
    "    print(tag.name)"
   ]
  },
  {
   "cell_type": "markdown",
   "id": "ffed26db-7905-494f-8334-66ca500ca6c4",
   "metadata": {},
   "source": [
    "### Função\n",
    "\n",
    "Match com elementos que retornam True quando passados para a função"
   ]
  },
  {
   "cell_type": "code",
   "execution_count": null,
   "id": "254c35ae-97c1-4ee6-a653-0025cd060554",
   "metadata": {},
   "outputs": [],
   "source": [
    "def has_class_but_no_id(tag):\n",
    "   return tag.has_attr('class') and not tag.has_attr('id')\n",
    "\n",
    "for tag in soup.find_all(has_class_but_no_id):\n",
    "   print(tag)\n",
    "   print()"
   ]
  },
  {
   "cell_type": "code",
   "execution_count": null,
   "id": "f967c1a9-f11a-4d08-8b3c-9d50d35db686",
   "metadata": {},
   "outputs": [],
   "source": [
    "from bs4 import NavigableString\n",
    "def surrounded_by_strings(tag):\n",
    "    return (isinstance(tag.next_element, NavigableString)\n",
    "            and isinstance(tag.previous_element, NavigableString))\n",
    "\n",
    "for tag in soup.find_all(surrounded_by_strings):\n",
    "    print(tag.name)   "
   ]
  },
  {
   "cell_type": "markdown",
   "id": "8d428c9a-e895-4708-8bdd-1b24672ad571",
   "metadata": {},
   "source": [
    "### Parâmetros da função find_all\n",
    "\n",
    "```\n",
    "find_all(name, attrs, recursive, string, limit, **kwargs)\n",
    "```\n",
    "\n",
    "```name```: para filtrar apenas tags com o nome específico\n",
    "\n",
    "```attrs```: utilizado para realizar filtros de atributos\n",
    "\n",
    "```recursive```: pesquisar apenas na tag ou em seus descendentes\n",
    "\n",
    "```string```: pesquisar pelo conteúdo/string das tags\n",
    "\n",
    "```limit```: limita o número de retornos do ```find_all```\n",
    "\n",
    "```**kwargs```: Todos os parâmetros nomeados não conhecidos são convertidos para filtros de atributos"
   ]
  },
  {
   "cell_type": "code",
   "execution_count": null,
   "id": "f4c740e5-e27e-4a60-a913-4b683124d181",
   "metadata": {},
   "outputs": [],
   "source": [
    "# Parâmetro nome\n",
    "soup.find_all(\"title\")"
   ]
  },
  {
   "cell_type": "code",
   "execution_count": null,
   "id": "ad529a11-8d9a-47fe-87b1-2baf04a724cb",
   "metadata": {},
   "outputs": [],
   "source": [
    "# Parâmetro attrs\n",
    "soup.find_all(attrs={\"class\": \"sister\"})"
   ]
  },
  {
   "cell_type": "code",
   "execution_count": null,
   "id": "0059c82e-ee18-4a39-8b53-993d86fc382a",
   "metadata": {},
   "outputs": [],
   "source": [
    "# Atributo recursive\n",
    "soup.html.find_all(\"title\")"
   ]
  },
  {
   "cell_type": "code",
   "execution_count": null,
   "id": "5179b6d9-52d8-4a3b-8bbb-5869608b5bc2",
   "metadata": {},
   "outputs": [],
   "source": [
    "# Esse código só busca nos filhos diretos da tag html\n",
    "soup.html.find_all(\"title\", recursive=False)"
   ]
  },
  {
   "cell_type": "code",
   "execution_count": null,
   "id": "d6b01e41-1afd-4f2b-9954-fc125496f1b3",
   "metadata": {},
   "outputs": [],
   "source": [
    "# Atributo string\n",
    "soup.find_all(string=\"Elsie\")"
   ]
  },
  {
   "cell_type": "code",
   "execution_count": null,
   "id": "0e74063d-89a8-4a0e-af03-c3b0eb279667",
   "metadata": {},
   "outputs": [],
   "source": [
    "soup.find_all(string=[\"Tillie\", \"Lacie\", \"Elsie\"])"
   ]
  },
  {
   "cell_type": "code",
   "execution_count": null,
   "id": "be46b063-13d2-4da4-b619-3d98ded4cd65",
   "metadata": {},
   "outputs": [],
   "source": [
    "import re\n",
    "soup.find_all(string=re.compile(\"Dormouse\"))"
   ]
  },
  {
   "cell_type": "code",
   "execution_count": null,
   "id": "b1317271-154f-47ba-93ff-e1370b2157f3",
   "metadata": {},
   "outputs": [],
   "source": [
    "def is_the_only_string_within_a_tag(s):\n",
    "    \"\"\"Retorna True se a string for o filho único da tag pai.\"\"\"\n",
    "    return (s == s.parent.string)\n",
    "\n",
    "soup.find_all(string=is_the_only_string_within_a_tag)"
   ]
  },
  {
   "cell_type": "code",
   "execution_count": null,
   "id": "501d4fcc-2a06-47b3-a2a1-eb89ebb9dee6",
   "metadata": {},
   "outputs": [],
   "source": [
    "# Parâmetro limit\n",
    "soup.find_all(\"a\", limit=2)"
   ]
  },
  {
   "cell_type": "code",
   "execution_count": null,
   "id": "a1a9b5b4-3b7e-4444-804c-bfc69d205786",
   "metadata": {},
   "outputs": [],
   "source": [
    "# Parâmetro **kwargs\n",
    "soup.find_all(id=\"link2\")"
   ]
  },
  {
   "cell_type": "code",
   "execution_count": null,
   "id": "dbe279da-fd22-4d18-b2f7-e87c86c241a4",
   "metadata": {},
   "outputs": [],
   "source": [
    "soup.find_all(href=re.compile(\"elsie\"))"
   ]
  },
  {
   "cell_type": "code",
   "execution_count": null,
   "id": "81c2d47d-66a7-45be-9111-426f49dc5612",
   "metadata": {},
   "outputs": [],
   "source": [
    "soup.find_all(class_=\"sister\")"
   ]
  },
  {
   "cell_type": "markdown",
   "id": "5929a3ea-68f9-442d-aa76-57e34b7bfa6c",
   "metadata": {},
   "source": [
    "### Exercício\n",
    "\n",
    "Usando ```find_all``` selecione:\n",
    "1. Todas as tags da classe story\n",
    "2. Tag com id link2 e as suas irmãs subsequentes \n"
   ]
  },
  {
   "cell_type": "code",
   "execution_count": null,
   "id": "bee23f38-ca35-47fb-8670-f4aa48a1f1df",
   "metadata": {},
   "outputs": [],
   "source": [
    "# exercicio 1\n",
    "soup.find_all(attrs={\"class\": \"story\"})"
   ]
  },
  {
   "cell_type": "code",
   "execution_count": null,
   "id": "0b1926d3-7978-4534-a8e8-0ab06ff40e58",
   "metadata": {},
   "outputs": [],
   "source": [
    "# exercicio 2\n"
   ]
  },
  {
   "cell_type": "markdown",
   "id": "9400ef32-d484-47bc-b163-a700b36be087",
   "metadata": {},
   "source": [
    "## Seletores CSS"
   ]
  },
  {
   "cell_type": "markdown",
   "id": "0e30dd5b-5e68-446e-acb9-08f33df58bfd",
   "metadata": {},
   "source": [
    "Seletores são padrões textuais que casam com algum elemento de uma árvore (de um arquivo XML ou HTML). \n",
    "\n",
    "Podemos ter os seguintes tipos de seletores:\n",
    "\n",
    "* **Seletores Simples**: Por tipo, universal, por id, por classe, por atributo ou pseudo-classe;\n",
    "* **Seletores Compostos**: É uma sequência de seletores simples (por exemplo por tipo e por classe);\n",
    "* **Lista de Seletores**: É formada por uma lista de seletores separadas por vírgula\n",
    "* **Seletores Complexos**: É formado por múltiplos seletores simples ou compostos junto de combinadores.\n"
   ]
  },
  {
   "cell_type": "code",
   "execution_count": null,
   "id": "b1b51211-4af0-4c20-9523-0b1b239bfbbd",
   "metadata": {},
   "outputs": [],
   "source": [
    "# Seletor por tipo\n",
    "soup.select(\"title\")"
   ]
  },
  {
   "cell_type": "code",
   "execution_count": null,
   "id": "bd0e66c0-c73c-4c35-a941-822b2fb3ca35",
   "metadata": {},
   "outputs": [],
   "source": [
    "# Seletor Universal\n",
    "soup.select(\"*\")"
   ]
  },
  {
   "cell_type": "code",
   "execution_count": null,
   "id": "3e246f89-d148-4e7d-bb3c-82f6d7af2eb6",
   "metadata": {},
   "outputs": [],
   "source": [
    "# Seletor por atributo\n",
    "soup.select(\"[id]\")"
   ]
  },
  {
   "cell_type": "code",
   "execution_count": null,
   "id": "308337db-2fbe-40fb-92f0-b44d1de8fd06",
   "metadata": {},
   "outputs": [],
   "source": [
    "# Seletor de atributo por substring\n",
    "soup.select(\"[class^=s]\")"
   ]
  },
  {
   "cell_type": "code",
   "execution_count": null,
   "id": "515e4a0f-ea4a-4caf-9e91-ffa5c6bf2aaf",
   "metadata": {},
   "outputs": [],
   "source": [
    "# Seletor de atributo por classe\n",
    "soup.select(\".sister\")"
   ]
  },
  {
   "cell_type": "code",
   "execution_count": null,
   "id": "4c03096f-bbe1-44cc-91c5-4bea58bbad03",
   "metadata": {},
   "outputs": [],
   "source": [
    "# Seletor de Id\n",
    "soup.select(\"#link2\")"
   ]
  },
  {
   "cell_type": "code",
   "execution_count": null,
   "id": "e9a34ad3-9dcd-4cdc-b42b-b9e98e178000",
   "metadata": {},
   "outputs": [],
   "source": [
    "# Seletores Compostos\n",
    "soup.select(\"a[href$=tillie]\")"
   ]
  },
  {
   "cell_type": "markdown",
   "id": "fada82e8-a0f1-4c5d-8d99-115ae976584d",
   "metadata": {},
   "source": [
    "### Seletores com Combinadores"
   ]
  },
  {
   "cell_type": "code",
   "execution_count": null,
   "id": "7a5c3e82-9bb5-452c-b384-61ff4cfc71f4",
   "metadata": {},
   "outputs": [],
   "source": [
    "# Combinador Espaço ' '\n",
    "soup.select(\"body a\")"
   ]
  },
  {
   "cell_type": "code",
   "execution_count": null,
   "id": "591bf7ee-da88-444b-ac0b-c9db0acac5e1",
   "metadata": {},
   "outputs": [],
   "source": [
    "# Combinador Filho >\n",
    "soup.select(\"head > title\")"
   ]
  },
  {
   "cell_type": "code",
   "execution_count": null,
   "id": "d9c6cefa-1a20-4207-9dd0-4eb93c0c2c62",
   "metadata": {},
   "outputs": [],
   "source": [
    "# Combinador Irmão Subsequente ~\n",
    "soup.select(\"#link1 ~ .sister\")"
   ]
  },
  {
   "cell_type": "markdown",
   "id": "1f966a21-9c03-4a5e-b055-d3812ba9a5c2",
   "metadata": {},
   "source": [
    "### Exercício\n",
    "\n",
    "Crie um seletor CSS para cada item abaixo.\n",
    "1. Todas as tags b que estão dentro de um p\n",
    "2. Todas as tags da classe story\n",
    "3. Tag com id link2 e as suas irmãs subsequentes "
   ]
  }
 ],
 "metadata": {
  "kernelspec": {
   "display_name": "Python 3 (ipykernel)",
   "language": "python",
   "name": "python3"
  },
  "language_info": {
   "codemirror_mode": {
    "name": "ipython",
    "version": 3
   },
   "file_extension": ".py",
   "mimetype": "text/x-python",
   "name": "python",
   "nbconvert_exporter": "python",
   "pygments_lexer": "ipython3",
   "version": "3.12.7"
  }
 },
 "nbformat": 4,
 "nbformat_minor": 5
}
